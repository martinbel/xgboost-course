{
 "cells": [
  {
   "cell_type": "markdown",
   "id": "169ffd16",
   "metadata": {},
   "source": [
    "# Train Model"
   ]
  },
  {
   "cell_type": "code",
   "execution_count": 2,
   "id": "90d935de",
   "metadata": {},
   "outputs": [],
   "source": [
    "from utils import *"
   ]
  },
  {
   "cell_type": "code",
   "execution_count": 2,
   "id": "198ee1c5",
   "metadata": {},
   "outputs": [],
   "source": [
    "df, numeric_features, categorical_features, target_var = preprocess(\"data/listings.csv\")"
   ]
  },
  {
   "cell_type": "code",
   "execution_count": 3,
   "id": "a1ef5763",
   "metadata": {},
   "outputs": [
    {
     "data": {
      "text/html": [
       "<div>\n",
       "<style scoped>\n",
       "    .dataframe tbody tr th:only-of-type {\n",
       "        vertical-align: middle;\n",
       "    }\n",
       "\n",
       "    .dataframe tbody tr th {\n",
       "        vertical-align: top;\n",
       "    }\n",
       "\n",
       "    .dataframe thead th {\n",
       "        text-align: right;\n",
       "    }\n",
       "</style>\n",
       "<table border=\"1\" class=\"dataframe\">\n",
       "  <thead>\n",
       "    <tr style=\"text-align: right;\">\n",
       "      <th></th>\n",
       "      <th>target</th>\n",
       "      <th>host_response_rate</th>\n",
       "      <th>host_acceptance_rate</th>\n",
       "      <th>host_is_superhost</th>\n",
       "      <th>host_listings_count</th>\n",
       "      <th>instant_bookable</th>\n",
       "      <th>latitude</th>\n",
       "      <th>longitude</th>\n",
       "      <th>accommodates</th>\n",
       "      <th>bedrooms</th>\n",
       "      <th>beds</th>\n",
       "      <th>nbr_bathrooms</th>\n",
       "      <th>shared_bathrooms</th>\n",
       "      <th>host_lives_nbh</th>\n",
       "      <th>nbr_host_verifications</th>\n",
       "      <th>days_since_host</th>\n",
       "      <th>days_since_first_review</th>\n",
       "      <th>days_since_last_review</th>\n",
       "      <th>host_response_time</th>\n",
       "      <th>neighbourhood_group_cleansed</th>\n",
       "      <th>neighbourhood_cleansed</th>\n",
       "      <th>property_type</th>\n",
       "      <th>room_type</th>\n",
       "    </tr>\n",
       "  </thead>\n",
       "  <tbody>\n",
       "    <tr>\n",
       "      <th>0</th>\n",
       "      <td>5.700444</td>\n",
       "      <td>100.0</td>\n",
       "      <td>90.0</td>\n",
       "      <td>0</td>\n",
       "      <td>9.0</td>\n",
       "      <td>0</td>\n",
       "      <td>40.64529</td>\n",
       "      <td>-73.97238</td>\n",
       "      <td>2</td>\n",
       "      <td>1.0</td>\n",
       "      <td>1.0</td>\n",
       "      <td>1.0</td>\n",
       "      <td>1</td>\n",
       "      <td>0</td>\n",
       "      <td>2</td>\n",
       "      <td>5187.0</td>\n",
       "      <td>2543.0</td>\n",
       "      <td>1493.0</td>\n",
       "      <td>hour</td>\n",
       "      <td>Brooklyn</td>\n",
       "      <td>Kensington</td>\n",
       "      <td>Private room in rental unit</td>\n",
       "      <td>Private room</td>\n",
       "    </tr>\n",
       "    <tr>\n",
       "      <th>1</th>\n",
       "      <td>5.164786</td>\n",
       "      <td>75.0</td>\n",
       "      <td>23.0</td>\n",
       "      <td>0</td>\n",
       "      <td>6.0</td>\n",
       "      <td>0</td>\n",
       "      <td>40.75356</td>\n",
       "      <td>-73.98559</td>\n",
       "      <td>1</td>\n",
       "      <td>NaN</td>\n",
       "      <td>1.0</td>\n",
       "      <td>1.0</td>\n",
       "      <td>0</td>\n",
       "      <td>1</td>\n",
       "      <td>3</td>\n",
       "      <td>5185.0</td>\n",
       "      <td>4747.0</td>\n",
       "      <td>152.0</td>\n",
       "      <td>one_day</td>\n",
       "      <td>Manhattan</td>\n",
       "      <td>Midtown</td>\n",
       "      <td>Entire rental unit</td>\n",
       "      <td>Entire home/apt</td>\n",
       "    </tr>\n",
       "    <tr>\n",
       "      <th>2</th>\n",
       "      <td>4.094345</td>\n",
       "      <td>100.0</td>\n",
       "      <td>100.0</td>\n",
       "      <td>1</td>\n",
       "      <td>2.0</td>\n",
       "      <td>0</td>\n",
       "      <td>40.68535</td>\n",
       "      <td>-73.95512</td>\n",
       "      <td>2</td>\n",
       "      <td>1.0</td>\n",
       "      <td>1.0</td>\n",
       "      <td>0.0</td>\n",
       "      <td>0</td>\n",
       "      <td>1</td>\n",
       "      <td>2</td>\n",
       "      <td>5038.0</td>\n",
       "      <td>4924.0</td>\n",
       "      <td>1084.0</td>\n",
       "      <td>hour</td>\n",
       "      <td>Brooklyn</td>\n",
       "      <td>Bedford-Stuyvesant</td>\n",
       "      <td>Private room in rental unit</td>\n",
       "      <td>Private room</td>\n",
       "    </tr>\n",
       "    <tr>\n",
       "      <th>3</th>\n",
       "      <td>6.052089</td>\n",
       "      <td>100.0</td>\n",
       "      <td>19.0</td>\n",
       "      <td>0</td>\n",
       "      <td>7.0</td>\n",
       "      <td>0</td>\n",
       "      <td>40.70309</td>\n",
       "      <td>-73.89963</td>\n",
       "      <td>16</td>\n",
       "      <td>5.0</td>\n",
       "      <td>10.0</td>\n",
       "      <td>2.5</td>\n",
       "      <td>0</td>\n",
       "      <td>1</td>\n",
       "      <td>2</td>\n",
       "      <td>4478.0</td>\n",
       "      <td>3974.0</td>\n",
       "      <td>1104.0</td>\n",
       "      <td>hour</td>\n",
       "      <td>Queens</td>\n",
       "      <td>Ridgewood</td>\n",
       "      <td>Entire townhouse</td>\n",
       "      <td>Entire home/apt</td>\n",
       "    </tr>\n",
       "    <tr>\n",
       "      <th>4</th>\n",
       "      <td>5.616771</td>\n",
       "      <td>NaN</td>\n",
       "      <td>33.0</td>\n",
       "      <td>0</td>\n",
       "      <td>1.0</td>\n",
       "      <td>0</td>\n",
       "      <td>40.66265</td>\n",
       "      <td>-73.99454</td>\n",
       "      <td>4</td>\n",
       "      <td>2.0</td>\n",
       "      <td>2.0</td>\n",
       "      <td>1.5</td>\n",
       "      <td>0</td>\n",
       "      <td>0</td>\n",
       "      <td>2</td>\n",
       "      <td>5038.0</td>\n",
       "      <td>3244.0</td>\n",
       "      <td>102.0</td>\n",
       "      <td>NaN</td>\n",
       "      <td>Brooklyn</td>\n",
       "      <td>Sunset Park</td>\n",
       "      <td>Entire rental unit</td>\n",
       "      <td>Entire home/apt</td>\n",
       "    </tr>\n",
       "  </tbody>\n",
       "</table>\n",
       "</div>"
      ],
      "text/plain": [
       "     target  host_response_rate  host_acceptance_rate  host_is_superhost  \\\n",
       "0  5.700444               100.0                  90.0                  0   \n",
       "1  5.164786                75.0                  23.0                  0   \n",
       "2  4.094345               100.0                 100.0                  1   \n",
       "3  6.052089               100.0                  19.0                  0   \n",
       "4  5.616771                 NaN                  33.0                  0   \n",
       "\n",
       "   host_listings_count  instant_bookable  latitude  longitude  accommodates  \\\n",
       "0                  9.0                 0  40.64529  -73.97238             2   \n",
       "1                  6.0                 0  40.75356  -73.98559             1   \n",
       "2                  2.0                 0  40.68535  -73.95512             2   \n",
       "3                  7.0                 0  40.70309  -73.89963            16   \n",
       "4                  1.0                 0  40.66265  -73.99454             4   \n",
       "\n",
       "   bedrooms  beds  nbr_bathrooms  shared_bathrooms  host_lives_nbh  \\\n",
       "0       1.0   1.0            1.0                 1               0   \n",
       "1       NaN   1.0            1.0                 0               1   \n",
       "2       1.0   1.0            0.0                 0               1   \n",
       "3       5.0  10.0            2.5                 0               1   \n",
       "4       2.0   2.0            1.5                 0               0   \n",
       "\n",
       "   nbr_host_verifications  days_since_host  days_since_first_review  \\\n",
       "0                       2           5187.0                   2543.0   \n",
       "1                       3           5185.0                   4747.0   \n",
       "2                       2           5038.0                   4924.0   \n",
       "3                       2           4478.0                   3974.0   \n",
       "4                       2           5038.0                   3244.0   \n",
       "\n",
       "   days_since_last_review host_response_time neighbourhood_group_cleansed  \\\n",
       "0                  1493.0               hour                     Brooklyn   \n",
       "1                   152.0            one_day                    Manhattan   \n",
       "2                  1084.0               hour                     Brooklyn   \n",
       "3                  1104.0               hour                       Queens   \n",
       "4                   102.0                NaN                     Brooklyn   \n",
       "\n",
       "  neighbourhood_cleansed                property_type        room_type  \n",
       "0             Kensington  Private room in rental unit     Private room  \n",
       "1                Midtown           Entire rental unit  Entire home/apt  \n",
       "2     Bedford-Stuyvesant  Private room in rental unit     Private room  \n",
       "3              Ridgewood             Entire townhouse  Entire home/apt  \n",
       "4            Sunset Park           Entire rental unit  Entire home/apt  "
      ]
     },
     "execution_count": 3,
     "metadata": {},
     "output_type": "execute_result"
    }
   ],
   "source": [
    "df.head()"
   ]
  },
  {
   "cell_type": "code",
   "execution_count": 4,
   "id": "1d0e2f8b",
   "metadata": {},
   "outputs": [
    {
     "data": {
      "text/plain": [
       "host_response_time                4\n",
       "neighbourhood_group_cleansed      5\n",
       "neighbourhood_cleansed          244\n",
       "property_type                    79\n",
       "room_type                         4\n",
       "dtype: int64"
      ]
     },
     "execution_count": 4,
     "metadata": {},
     "output_type": "execute_result"
    }
   ],
   "source": [
    "df[categorical_features].nunique()"
   ]
  },
  {
   "cell_type": "markdown",
   "id": "91fabb8a",
   "metadata": {},
   "source": [
    "# Define train/test split"
   ]
  },
  {
   "cell_type": "code",
   "execution_count": 5,
   "id": "d76d0068",
   "metadata": {},
   "outputs": [],
   "source": [
    "from sklearn.model_selection import train_test_split\n",
    "\n",
    "n = df.shape[0]\n",
    "inx_all = np.arange(n)\n",
    "y = df[[target_var]].values"
   ]
  },
  {
   "cell_type": "code",
   "execution_count": 6,
   "id": "bab5415f",
   "metadata": {},
   "outputs": [],
   "source": [
    "# Train/test split\n",
    "inx_train, inx_test, y_train, y_test = train_test_split(\n",
    "    inx_all, y, test_size=0.3, random_state=42)"
   ]
  },
  {
   "cell_type": "code",
   "execution_count": 7,
   "id": "86dc7d6b",
   "metadata": {},
   "outputs": [],
   "source": [
    "df_num = df[numeric_features].copy()\n",
    "df_cat = df[categorical_features].copy()"
   ]
  },
  {
   "cell_type": "code",
   "execution_count": 8,
   "id": "5c7b3cce",
   "metadata": {},
   "outputs": [],
   "source": [
    "df_cat['host_response_time'] = df_cat['host_response_time'].replace(np.NaN, \"missing\")"
   ]
  },
  {
   "cell_type": "code",
   "execution_count": 9,
   "id": "5550e9bf",
   "metadata": {},
   "outputs": [],
   "source": [
    "df_num = df_num.replace(np.NaN, -1)"
   ]
  },
  {
   "cell_type": "code",
   "execution_count": 10,
   "id": "dbed4a89",
   "metadata": {},
   "outputs": [
    {
     "data": {
      "text/plain": [
       "host_response_rate         0\n",
       "host_acceptance_rate       0\n",
       "host_is_superhost          0\n",
       "host_listings_count        0\n",
       "instant_bookable           0\n",
       "latitude                   0\n",
       "longitude                  0\n",
       "accommodates               0\n",
       "bedrooms                   0\n",
       "beds                       0\n",
       "nbr_bathrooms              0\n",
       "shared_bathrooms           0\n",
       "host_lives_nbh             0\n",
       "nbr_host_verifications     0\n",
       "days_since_host            0\n",
       "days_since_first_review    0\n",
       "days_since_last_review     0\n",
       "dtype: int64"
      ]
     },
     "execution_count": 10,
     "metadata": {},
     "output_type": "execute_result"
    }
   ],
   "source": [
    "df_num.isnull().sum()"
   ]
  },
  {
   "cell_type": "code",
   "execution_count": 11,
   "id": "36a64537",
   "metadata": {},
   "outputs": [
    {
     "data": {
      "text/plain": [
       "host_response_time              0\n",
       "neighbourhood_group_cleansed    0\n",
       "neighbourhood_cleansed          0\n",
       "property_type                   0\n",
       "room_type                       0\n",
       "dtype: int64"
      ]
     },
     "execution_count": 11,
     "metadata": {},
     "output_type": "execute_result"
    }
   ],
   "source": [
    "df_cat.isnull().sum()"
   ]
  },
  {
   "cell_type": "markdown",
   "id": "b9f1d37e",
   "metadata": {},
   "source": [
    "# One-Hot Encoding of categorical variables"
   ]
  },
  {
   "cell_type": "code",
   "execution_count": 12,
   "id": "386e3369",
   "metadata": {},
   "outputs": [],
   "source": [
    "from sklearn.preprocessing import OneHotEncoder\n",
    "from scipy.sparse import hstack"
   ]
  },
  {
   "cell_type": "code",
   "execution_count": 13,
   "id": "5437aacc",
   "metadata": {},
   "outputs": [
    {
     "data": {
      "text/plain": [
       "OneHotEncoder(handle_unknown='ignore')"
      ]
     },
     "execution_count": 13,
     "metadata": {},
     "output_type": "execute_result"
    }
   ],
   "source": [
    "ohe = OneHotEncoder(handle_unknown=\"ignore\")\n",
    "ohe.fit(df_cat.iloc[inx_train])"
   ]
  },
  {
   "cell_type": "code",
   "execution_count": 14,
   "id": "972129e8",
   "metadata": {},
   "outputs": [],
   "source": [
    "X_train_cat = ohe.transform(df_cat.iloc[inx_train])\n",
    "X_test_cat = ohe.transform(df_cat.iloc[inx_test])"
   ]
  },
  {
   "cell_type": "code",
   "execution_count": 15,
   "id": "7fd35d78",
   "metadata": {},
   "outputs": [],
   "source": [
    "X_train_num = df_num.iloc[inx_train]\n",
    "X_test_num = df_num.iloc[inx_test]"
   ]
  },
  {
   "cell_type": "code",
   "execution_count": 16,
   "id": "73bd24ce",
   "metadata": {},
   "outputs": [],
   "source": [
    "X_train = hstack((X_train_cat, X_train_num))\n",
    "X_test = hstack((X_test_cat, X_test_num))"
   ]
  },
  {
   "cell_type": "markdown",
   "id": "b7728d9e",
   "metadata": {},
   "source": [
    "# Train model"
   ]
  },
  {
   "cell_type": "code",
   "execution_count": 17,
   "id": "5dae7cbb",
   "metadata": {},
   "outputs": [],
   "source": [
    "# convert numpy arrays to xgb Dmatrix format\n",
    "dtrain = xgb.DMatrix(X_train, label=y_train)\n",
    "dtest = xgb.DMatrix(X_test, label=y_test)"
   ]
  },
  {
   "cell_type": "code",
   "execution_count": 18,
   "id": "8991fa80",
   "metadata": {},
   "outputs": [],
   "source": [
    "# specify validations set to watch performance\n",
    "watchlist = [(dtrain, 'train'), (dtest, 'eval')]"
   ]
  },
  {
   "cell_type": "code",
   "execution_count": 19,
   "id": "60e7862e",
   "metadata": {},
   "outputs": [],
   "source": [
    "def custom_mae(preds, dtrain):\n",
    "    y_pred = np.array(preds)\n",
    "    y_true = np.array(dtrain.get_label())\n",
    "    \n",
    "    y_pred = np.exp(y_pred)\n",
    "    y_true = np.exp(y_true)\n",
    "    \n",
    "    mae = np.mean(np.abs(y_pred - y_true))\n",
    "    return \"PriceMAE\", mae"
   ]
  },
  {
   "cell_type": "code",
   "execution_count": 20,
   "id": "b41306ce",
   "metadata": {},
   "outputs": [],
   "source": [
    "# max_depth=6 - 64.81\n",
    "# max_depth=12 - 62.72\n",
    "# max_depth=12 - 63.61164 | lambda=100\n",
    "# max_depth=15 - 62.43914 | lambda=50"
   ]
  },
  {
   "cell_type": "code",
   "execution_count": 21,
   "id": "72d0fad2",
   "metadata": {},
   "outputs": [
    {
     "name": "stdout",
     "output_type": "stream",
     "text": [
      "[0]\ttrain-mae:4.20262\ttrain-PriceMAE:196.84172\teval-mae:4.18692\teval-PriceMAE:192.84190\n",
      "[20]\ttrain-mae:1.52212\ttrain-PriceMAE:167.83194\teval-mae:1.51138\teval-PriceMAE:163.98329\n",
      "[40]\ttrain-mae:0.59660\ttrain-PriceMAE:115.30377\teval-mae:0.59237\teval-PriceMAE:112.14600\n",
      "[60]\ttrain-mae:0.35655\ttrain-PriceMAE:85.23225\teval-mae:0.36219\teval-PriceMAE:83.81362\n",
      "[80]\ttrain-mae:0.29729\ttrain-PriceMAE:73.25015\teval-mae:0.31295\teval-PriceMAE:74.13115\n",
      "[100]\ttrain-mae:0.27159\ttrain-PriceMAE:66.86298\teval-mae:0.29695\teval-PriceMAE:70.12521\n",
      "[120]\ttrain-mae:0.25613\ttrain-PriceMAE:62.83045\teval-mae:0.28912\teval-PriceMAE:67.99676\n",
      "[140]\ttrain-mae:0.24467\ttrain-PriceMAE:59.90991\teval-mae:0.28466\teval-PriceMAE:66.76593\n",
      "[160]\ttrain-mae:0.23403\ttrain-PriceMAE:57.33881\teval-mae:0.28136\teval-PriceMAE:65.87837\n",
      "[180]\ttrain-mae:0.22561\ttrain-PriceMAE:55.26722\teval-mae:0.27897\teval-PriceMAE:65.25221\n",
      "[200]\ttrain-mae:0.21876\ttrain-PriceMAE:53.62469\teval-mae:0.27748\teval-PriceMAE:64.86243\n",
      "[220]\ttrain-mae:0.21229\ttrain-PriceMAE:52.08823\teval-mae:0.27593\teval-PriceMAE:64.45837\n",
      "[240]\ttrain-mae:0.20594\ttrain-PriceMAE:50.66198\teval-mae:0.27454\teval-PriceMAE:64.12740\n",
      "[260]\ttrain-mae:0.19995\ttrain-PriceMAE:49.36236\teval-mae:0.27354\teval-PriceMAE:63.84669\n",
      "[280]\ttrain-mae:0.19444\ttrain-PriceMAE:48.12146\teval-mae:0.27284\teval-PriceMAE:63.66538\n",
      "[300]\ttrain-mae:0.18825\ttrain-PriceMAE:46.77171\teval-mae:0.27208\teval-PriceMAE:63.48266\n",
      "[320]\ttrain-mae:0.18206\ttrain-PriceMAE:45.41465\teval-mae:0.27146\teval-PriceMAE:63.32818\n",
      "[340]\ttrain-mae:0.17675\ttrain-PriceMAE:44.33717\teval-mae:0.27106\teval-PriceMAE:63.21123\n",
      "[360]\ttrain-mae:0.17077\ttrain-PriceMAE:43.05323\teval-mae:0.27059\teval-PriceMAE:63.05474\n",
      "[380]\ttrain-mae:0.16519\ttrain-PriceMAE:41.86785\teval-mae:0.27015\teval-PriceMAE:62.91743\n",
      "[400]\ttrain-mae:0.16025\ttrain-PriceMAE:40.79958\teval-mae:0.26978\teval-PriceMAE:62.80110\n",
      "[420]\ttrain-mae:0.15531\ttrain-PriceMAE:39.78814\teval-mae:0.26954\teval-PriceMAE:62.72583\n",
      "[440]\ttrain-mae:0.15146\ttrain-PriceMAE:38.94329\teval-mae:0.26911\teval-PriceMAE:62.62659\n",
      "[460]\ttrain-mae:0.14732\ttrain-PriceMAE:38.05272\teval-mae:0.26894\teval-PriceMAE:62.54624\n",
      "[480]\ttrain-mae:0.14365\ttrain-PriceMAE:37.23820\teval-mae:0.26885\teval-PriceMAE:62.49465\n",
      "[499]\ttrain-mae:0.13978\ttrain-PriceMAE:36.41773\teval-mae:0.26866\teval-PriceMAE:62.43914\n"
     ]
    }
   ],
   "source": [
    "param = {\n",
    "    \"max_depth\": 15,\n",
    "    \"objective\": \"reg:squarederror\",\n",
    "    \"subsample\": 0.6667, \n",
    "    'colsample_bytree':0.5,\n",
    "    \"lambda\": 50,\n",
    "    'min_child_weight':1,\n",
    "    'tree_method':'hist',\n",
    "    \"learning_rate\": 0.05,\n",
    "    \"eval_metric\": \"mae\"\n",
    "}\n",
    "\n",
    "num_round = 500\n",
    "\n",
    "bst = xgb.train(params=param, dtrain=dtrain, num_boost_round=num_round, \n",
    "                feval=custom_mae, maximize=False, obj=None, \n",
    "                evals=watchlist, verbose_eval=20)"
   ]
  },
  {
   "cell_type": "code",
   "execution_count": 22,
   "id": "0e895088",
   "metadata": {},
   "outputs": [
    {
     "data": {
      "text/plain": [
       "130.00003"
      ]
     },
     "execution_count": 22,
     "metadata": {},
     "output_type": "execute_result"
    }
   ],
   "source": [
    "yhat = np.median(np.exp(y_train))\n",
    "yhat"
   ]
  },
  {
   "cell_type": "code",
   "execution_count": 23,
   "id": "5fc2467f",
   "metadata": {},
   "outputs": [
    {
     "data": {
      "text/plain": [
       "115.79675"
      ]
     },
     "execution_count": 23,
     "metadata": {},
     "output_type": "execute_result"
    }
   ],
   "source": [
    "baseline_mae = np.mean(np.abs(yhat - np.exp(y_test)))\n",
    "baseline_mae"
   ]
  },
  {
   "cell_type": "code",
   "execution_count": null,
   "id": "86e227ca",
   "metadata": {},
   "outputs": [],
   "source": []
  },
  {
   "cell_type": "code",
   "execution_count": null,
   "id": "22e24be1",
   "metadata": {},
   "outputs": [],
   "source": []
  },
  {
   "cell_type": "code",
   "execution_count": null,
   "id": "dd7d58f2",
   "metadata": {},
   "outputs": [],
   "source": []
  },
  {
   "cell_type": "code",
   "execution_count": null,
   "id": "7480b40c",
   "metadata": {},
   "outputs": [],
   "source": []
  },
  {
   "cell_type": "code",
   "execution_count": null,
   "id": "7376d26f",
   "metadata": {},
   "outputs": [],
   "source": []
  },
  {
   "cell_type": "code",
   "execution_count": null,
   "id": "f5946a2d",
   "metadata": {},
   "outputs": [],
   "source": []
  },
  {
   "cell_type": "code",
   "execution_count": null,
   "id": "975f6c23",
   "metadata": {},
   "outputs": [],
   "source": []
  },
  {
   "cell_type": "code",
   "execution_count": null,
   "id": "4acf1b2b",
   "metadata": {},
   "outputs": [],
   "source": []
  },
  {
   "cell_type": "code",
   "execution_count": null,
   "id": "77f7d86b",
   "metadata": {},
   "outputs": [],
   "source": []
  },
  {
   "cell_type": "code",
   "execution_count": null,
   "id": "de01dfb1",
   "metadata": {},
   "outputs": [],
   "source": []
  },
  {
   "cell_type": "code",
   "execution_count": null,
   "id": "40e9dc49",
   "metadata": {},
   "outputs": [],
   "source": []
  },
  {
   "cell_type": "code",
   "execution_count": null,
   "id": "722fa43f",
   "metadata": {},
   "outputs": [],
   "source": []
  },
  {
   "cell_type": "code",
   "execution_count": null,
   "id": "664f8358",
   "metadata": {},
   "outputs": [],
   "source": []
  },
  {
   "cell_type": "code",
   "execution_count": null,
   "id": "3848dbf1",
   "metadata": {},
   "outputs": [],
   "source": []
  },
  {
   "cell_type": "code",
   "execution_count": null,
   "id": "7a24f87f",
   "metadata": {},
   "outputs": [],
   "source": []
  },
  {
   "cell_type": "code",
   "execution_count": null,
   "id": "eaef2bc2",
   "metadata": {},
   "outputs": [],
   "source": []
  },
  {
   "cell_type": "code",
   "execution_count": null,
   "id": "f4bf4ee1",
   "metadata": {},
   "outputs": [],
   "source": []
  },
  {
   "cell_type": "code",
   "execution_count": null,
   "id": "1deec225",
   "metadata": {},
   "outputs": [],
   "source": []
  },
  {
   "cell_type": "code",
   "execution_count": null,
   "id": "85f4d684",
   "metadata": {},
   "outputs": [],
   "source": []
  },
  {
   "cell_type": "code",
   "execution_count": null,
   "id": "c28c633f",
   "metadata": {},
   "outputs": [],
   "source": []
  },
  {
   "cell_type": "code",
   "execution_count": null,
   "id": "60554052",
   "metadata": {},
   "outputs": [],
   "source": []
  },
  {
   "cell_type": "code",
   "execution_count": null,
   "id": "f57f3477",
   "metadata": {},
   "outputs": [],
   "source": []
  },
  {
   "cell_type": "code",
   "execution_count": null,
   "id": "4a2a800a",
   "metadata": {},
   "outputs": [],
   "source": []
  },
  {
   "cell_type": "code",
   "execution_count": null,
   "id": "10a15d65",
   "metadata": {},
   "outputs": [],
   "source": []
  },
  {
   "cell_type": "code",
   "execution_count": null,
   "id": "02f7c793",
   "metadata": {},
   "outputs": [],
   "source": []
  },
  {
   "cell_type": "code",
   "execution_count": null,
   "id": "fa887175",
   "metadata": {},
   "outputs": [],
   "source": []
  },
  {
   "cell_type": "code",
   "execution_count": null,
   "id": "8a5b4251",
   "metadata": {},
   "outputs": [],
   "source": []
  },
  {
   "cell_type": "code",
   "execution_count": null,
   "id": "d6422f4e",
   "metadata": {},
   "outputs": [],
   "source": []
  },
  {
   "cell_type": "code",
   "execution_count": null,
   "id": "643f3e56",
   "metadata": {},
   "outputs": [],
   "source": []
  },
  {
   "cell_type": "code",
   "execution_count": null,
   "id": "5d921e69",
   "metadata": {},
   "outputs": [],
   "source": []
  },
  {
   "cell_type": "code",
   "execution_count": null,
   "id": "7a0c0ec7",
   "metadata": {},
   "outputs": [],
   "source": []
  },
  {
   "cell_type": "code",
   "execution_count": null,
   "id": "d31d8181",
   "metadata": {},
   "outputs": [],
   "source": []
  },
  {
   "cell_type": "code",
   "execution_count": null,
   "id": "9f815bb4",
   "metadata": {},
   "outputs": [],
   "source": []
  },
  {
   "cell_type": "code",
   "execution_count": null,
   "id": "31db27f3",
   "metadata": {},
   "outputs": [],
   "source": []
  },
  {
   "cell_type": "code",
   "execution_count": null,
   "id": "2349fd28",
   "metadata": {},
   "outputs": [],
   "source": []
  },
  {
   "cell_type": "code",
   "execution_count": null,
   "id": "21ba12e4",
   "metadata": {},
   "outputs": [],
   "source": []
  },
  {
   "cell_type": "code",
   "execution_count": null,
   "id": "683fcf1e",
   "metadata": {},
   "outputs": [],
   "source": []
  },
  {
   "cell_type": "code",
   "execution_count": null,
   "id": "333b8577",
   "metadata": {},
   "outputs": [],
   "source": []
  },
  {
   "cell_type": "code",
   "execution_count": null,
   "id": "0d87d318",
   "metadata": {},
   "outputs": [],
   "source": []
  },
  {
   "cell_type": "code",
   "execution_count": null,
   "id": "b64dd2f7",
   "metadata": {},
   "outputs": [],
   "source": []
  },
  {
   "cell_type": "code",
   "execution_count": null,
   "id": "2901d8c9",
   "metadata": {},
   "outputs": [],
   "source": []
  },
  {
   "cell_type": "code",
   "execution_count": null,
   "id": "0dd78f34",
   "metadata": {},
   "outputs": [],
   "source": []
  },
  {
   "cell_type": "code",
   "execution_count": null,
   "id": "2f490c12",
   "metadata": {},
   "outputs": [],
   "source": []
  },
  {
   "cell_type": "code",
   "execution_count": null,
   "id": "3b77b9d0",
   "metadata": {},
   "outputs": [],
   "source": []
  },
  {
   "cell_type": "code",
   "execution_count": null,
   "id": "f1f616c9",
   "metadata": {},
   "outputs": [],
   "source": []
  },
  {
   "cell_type": "code",
   "execution_count": null,
   "id": "75c4491a",
   "metadata": {},
   "outputs": [],
   "source": []
  },
  {
   "cell_type": "code",
   "execution_count": null,
   "id": "e31ae568",
   "metadata": {},
   "outputs": [],
   "source": []
  }
 ],
 "metadata": {
  "kernelspec": {
   "display_name": "Python [conda env:xgb]",
   "language": "python",
   "name": "conda-env-xgb-py"
  },
  "language_info": {
   "codemirror_mode": {
    "name": "ipython",
    "version": 3
   },
   "file_extension": ".py",
   "mimetype": "text/x-python",
   "name": "python",
   "nbconvert_exporter": "python",
   "pygments_lexer": "ipython3",
   "version": "3.9.15"
  }
 },
 "nbformat": 4,
 "nbformat_minor": 5
}
