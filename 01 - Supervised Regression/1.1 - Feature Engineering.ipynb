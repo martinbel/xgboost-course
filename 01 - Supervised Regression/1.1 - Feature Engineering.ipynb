{
 "cells": [
  {
   "cell_type": "markdown",
   "id": "6b3e0004",
   "metadata": {},
   "source": [
    "# Supervised Regression - AirBnB listings data"
   ]
  },
  {
   "cell_type": "code",
   "execution_count": 1,
   "id": "54338067",
   "metadata": {},
   "outputs": [
    {
     "name": "stderr",
     "output_type": "stream",
     "text": [
      "/home/marbel/anaconda3/envs/xgb/lib/python3.9/site-packages/xgboost/compat.py:36: FutureWarning: pandas.Int64Index is deprecated and will be removed from pandas in a future version. Use pandas.Index with the appropriate dtype instead.\n",
      "  from pandas import MultiIndex, Int64Index\n"
     ]
    }
   ],
   "source": [
    "import pandas as pd\n",
    "import numpy as np \n",
    "import xgboost as xgb\n",
    "\n",
    "import seaborn as sns\n",
    "import matplotlib.pyplot as plt\n",
    "\n",
    "pd.set_option('display.max_columns', 1000)"
   ]
  },
  {
   "cell_type": "code",
   "execution_count": 2,
   "id": "ca7940de",
   "metadata": {},
   "outputs": [],
   "source": [
    "df_listings = pd.read_csv(\"data/listings.csv\", low_memory=False)"
   ]
  },
  {
   "cell_type": "code",
   "execution_count": 3,
   "id": "3f67a4b2",
   "metadata": {},
   "outputs": [
    {
     "data": {
      "text/html": [
       "<div>\n",
       "<style scoped>\n",
       "    .dataframe tbody tr th:only-of-type {\n",
       "        vertical-align: middle;\n",
       "    }\n",
       "\n",
       "    .dataframe tbody tr th {\n",
       "        vertical-align: top;\n",
       "    }\n",
       "\n",
       "    .dataframe thead th {\n",
       "        text-align: right;\n",
       "    }\n",
       "</style>\n",
       "<table border=\"1\" class=\"dataframe\">\n",
       "  <thead>\n",
       "    <tr style=\"text-align: right;\">\n",
       "      <th></th>\n",
       "      <th>id</th>\n",
       "      <th>listing_url</th>\n",
       "      <th>scrape_id</th>\n",
       "      <th>last_scraped</th>\n",
       "      <th>source</th>\n",
       "      <th>name</th>\n",
       "      <th>description</th>\n",
       "      <th>neighborhood_overview</th>\n",
       "      <th>picture_url</th>\n",
       "      <th>host_id</th>\n",
       "      <th>host_url</th>\n",
       "      <th>host_name</th>\n",
       "      <th>host_since</th>\n",
       "      <th>host_location</th>\n",
       "      <th>host_about</th>\n",
       "      <th>host_response_time</th>\n",
       "      <th>host_response_rate</th>\n",
       "      <th>host_acceptance_rate</th>\n",
       "      <th>host_is_superhost</th>\n",
       "      <th>host_thumbnail_url</th>\n",
       "      <th>host_picture_url</th>\n",
       "      <th>host_neighbourhood</th>\n",
       "      <th>host_listings_count</th>\n",
       "      <th>host_total_listings_count</th>\n",
       "      <th>host_verifications</th>\n",
       "      <th>host_has_profile_pic</th>\n",
       "      <th>host_identity_verified</th>\n",
       "      <th>neighbourhood</th>\n",
       "      <th>neighbourhood_cleansed</th>\n",
       "      <th>neighbourhood_group_cleansed</th>\n",
       "      <th>latitude</th>\n",
       "      <th>longitude</th>\n",
       "      <th>property_type</th>\n",
       "      <th>room_type</th>\n",
       "      <th>accommodates</th>\n",
       "      <th>bathrooms</th>\n",
       "      <th>bathrooms_text</th>\n",
       "      <th>bedrooms</th>\n",
       "      <th>beds</th>\n",
       "      <th>amenities</th>\n",
       "      <th>price</th>\n",
       "      <th>minimum_nights</th>\n",
       "      <th>maximum_nights</th>\n",
       "      <th>minimum_minimum_nights</th>\n",
       "      <th>maximum_minimum_nights</th>\n",
       "      <th>minimum_maximum_nights</th>\n",
       "      <th>maximum_maximum_nights</th>\n",
       "      <th>minimum_nights_avg_ntm</th>\n",
       "      <th>maximum_nights_avg_ntm</th>\n",
       "      <th>calendar_updated</th>\n",
       "      <th>has_availability</th>\n",
       "      <th>availability_30</th>\n",
       "      <th>availability_60</th>\n",
       "      <th>availability_90</th>\n",
       "      <th>availability_365</th>\n",
       "      <th>calendar_last_scraped</th>\n",
       "      <th>number_of_reviews</th>\n",
       "      <th>number_of_reviews_ltm</th>\n",
       "      <th>number_of_reviews_l30d</th>\n",
       "      <th>first_review</th>\n",
       "      <th>last_review</th>\n",
       "      <th>review_scores_rating</th>\n",
       "      <th>review_scores_accuracy</th>\n",
       "      <th>review_scores_cleanliness</th>\n",
       "      <th>review_scores_checkin</th>\n",
       "      <th>review_scores_communication</th>\n",
       "      <th>review_scores_location</th>\n",
       "      <th>review_scores_value</th>\n",
       "      <th>license</th>\n",
       "      <th>instant_bookable</th>\n",
       "      <th>calculated_host_listings_count</th>\n",
       "      <th>calculated_host_listings_count_entire_homes</th>\n",
       "      <th>calculated_host_listings_count_private_rooms</th>\n",
       "      <th>calculated_host_listings_count_shared_rooms</th>\n",
       "      <th>reviews_per_month</th>\n",
       "    </tr>\n",
       "  </thead>\n",
       "  <tbody>\n",
       "    <tr>\n",
       "      <th>0</th>\n",
       "      <td>2539</td>\n",
       "      <td>https://www.airbnb.com/rooms/2539</td>\n",
       "      <td>20220907064715</td>\n",
       "      <td>2022-09-07</td>\n",
       "      <td>city scrape</td>\n",
       "      <td>Clean &amp; quiet apt home by the park</td>\n",
       "      <td>Renovated apt home in elevator building.&lt;br /&gt;...</td>\n",
       "      <td>Close to Prospect Park and Historic Ditmas Park</td>\n",
       "      <td>https://a0.muscache.com/pictures/3949d073-a02e...</td>\n",
       "      <td>2787</td>\n",
       "      <td>https://www.airbnb.com/users/show/2787</td>\n",
       "      <td>John</td>\n",
       "      <td>2008-09-07</td>\n",
       "      <td>New York, NY</td>\n",
       "      <td>Educated professional living in Brooklyn.  I l...</td>\n",
       "      <td>within an hour</td>\n",
       "      <td>100%</td>\n",
       "      <td>90%</td>\n",
       "      <td>f</td>\n",
       "      <td>https://a0.muscache.com/im/pictures/user/86745...</td>\n",
       "      <td>https://a0.muscache.com/im/pictures/user/86745...</td>\n",
       "      <td>Gravesend</td>\n",
       "      <td>9.0</td>\n",
       "      <td>12.0</td>\n",
       "      <td>['email', 'phone']</td>\n",
       "      <td>t</td>\n",
       "      <td>t</td>\n",
       "      <td>Brooklyn , New York, United States</td>\n",
       "      <td>Kensington</td>\n",
       "      <td>Brooklyn</td>\n",
       "      <td>40.64529</td>\n",
       "      <td>-73.97238</td>\n",
       "      <td>Private room in rental unit</td>\n",
       "      <td>Private room</td>\n",
       "      <td>2</td>\n",
       "      <td>NaN</td>\n",
       "      <td>1 shared bath</td>\n",
       "      <td>1.0</td>\n",
       "      <td>1.0</td>\n",
       "      <td>[\"First aid kit\", \"Microwave\", \"Stove\", \"Coffe...</td>\n",
       "      <td>$299.00</td>\n",
       "      <td>30</td>\n",
       "      <td>730</td>\n",
       "      <td>30.0</td>\n",
       "      <td>30.0</td>\n",
       "      <td>730.0</td>\n",
       "      <td>730.0</td>\n",
       "      <td>30.0</td>\n",
       "      <td>730.0</td>\n",
       "      <td>NaN</td>\n",
       "      <td>t</td>\n",
       "      <td>21</td>\n",
       "      <td>51</td>\n",
       "      <td>81</td>\n",
       "      <td>356</td>\n",
       "      <td>2022-09-07</td>\n",
       "      <td>9</td>\n",
       "      <td>0</td>\n",
       "      <td>0</td>\n",
       "      <td>2015-12-04</td>\n",
       "      <td>2018-10-19</td>\n",
       "      <td>4.89</td>\n",
       "      <td>4.88</td>\n",
       "      <td>5.00</td>\n",
       "      <td>5.00</td>\n",
       "      <td>5.00</td>\n",
       "      <td>4.75</td>\n",
       "      <td>4.88</td>\n",
       "      <td>NaN</td>\n",
       "      <td>f</td>\n",
       "      <td>9</td>\n",
       "      <td>1</td>\n",
       "      <td>6</td>\n",
       "      <td>2</td>\n",
       "      <td>0.11</td>\n",
       "    </tr>\n",
       "    <tr>\n",
       "      <th>1</th>\n",
       "      <td>2595</td>\n",
       "      <td>https://www.airbnb.com/rooms/2595</td>\n",
       "      <td>20220907064715</td>\n",
       "      <td>2022-09-07</td>\n",
       "      <td>city scrape</td>\n",
       "      <td>Skylit Midtown Castle</td>\n",
       "      <td>Beautiful, spacious skylit studio in the heart...</td>\n",
       "      <td>Centrally located in the heart of Manhattan ju...</td>\n",
       "      <td>https://a0.muscache.com/pictures/f0813a11-40b2...</td>\n",
       "      <td>2845</td>\n",
       "      <td>https://www.airbnb.com/users/show/2845</td>\n",
       "      <td>Jennifer</td>\n",
       "      <td>2008-09-09</td>\n",
       "      <td>New York, NY</td>\n",
       "      <td>A New Yorker since (Phone number hidden by Air...</td>\n",
       "      <td>within a day</td>\n",
       "      <td>75%</td>\n",
       "      <td>23%</td>\n",
       "      <td>f</td>\n",
       "      <td>https://a0.muscache.com/im/pictures/user/50fc5...</td>\n",
       "      <td>https://a0.muscache.com/im/pictures/user/50fc5...</td>\n",
       "      <td>Midtown</td>\n",
       "      <td>6.0</td>\n",
       "      <td>9.0</td>\n",
       "      <td>['email', 'phone', 'work_email']</td>\n",
       "      <td>t</td>\n",
       "      <td>t</td>\n",
       "      <td>New York, United States</td>\n",
       "      <td>Midtown</td>\n",
       "      <td>Manhattan</td>\n",
       "      <td>40.75356</td>\n",
       "      <td>-73.98559</td>\n",
       "      <td>Entire rental unit</td>\n",
       "      <td>Entire home/apt</td>\n",
       "      <td>1</td>\n",
       "      <td>NaN</td>\n",
       "      <td>1 bath</td>\n",
       "      <td>NaN</td>\n",
       "      <td>1.0</td>\n",
       "      <td>[\"Stove\", \"Coffee maker\", \"Long term stays all...</td>\n",
       "      <td>$175.00</td>\n",
       "      <td>30</td>\n",
       "      <td>1125</td>\n",
       "      <td>30.0</td>\n",
       "      <td>30.0</td>\n",
       "      <td>1125.0</td>\n",
       "      <td>1125.0</td>\n",
       "      <td>30.0</td>\n",
       "      <td>1125.0</td>\n",
       "      <td>NaN</td>\n",
       "      <td>t</td>\n",
       "      <td>0</td>\n",
       "      <td>0</td>\n",
       "      <td>5</td>\n",
       "      <td>280</td>\n",
       "      <td>2022-09-07</td>\n",
       "      <td>49</td>\n",
       "      <td>1</td>\n",
       "      <td>0</td>\n",
       "      <td>2009-11-21</td>\n",
       "      <td>2022-06-21</td>\n",
       "      <td>4.68</td>\n",
       "      <td>4.73</td>\n",
       "      <td>4.63</td>\n",
       "      <td>4.77</td>\n",
       "      <td>4.80</td>\n",
       "      <td>4.81</td>\n",
       "      <td>4.40</td>\n",
       "      <td>NaN</td>\n",
       "      <td>f</td>\n",
       "      <td>3</td>\n",
       "      <td>3</td>\n",
       "      <td>0</td>\n",
       "      <td>0</td>\n",
       "      <td>0.31</td>\n",
       "    </tr>\n",
       "    <tr>\n",
       "      <th>2</th>\n",
       "      <td>5121</td>\n",
       "      <td>https://www.airbnb.com/rooms/5121</td>\n",
       "      <td>20220907064715</td>\n",
       "      <td>2022-09-07</td>\n",
       "      <td>city scrape</td>\n",
       "      <td>BlissArtsSpace!</td>\n",
       "      <td>One room available for rent in a 2 bedroom apt...</td>\n",
       "      <td>NaN</td>\n",
       "      <td>https://a0.muscache.com/pictures/2090980c-b68e...</td>\n",
       "      <td>7356</td>\n",
       "      <td>https://www.airbnb.com/users/show/7356</td>\n",
       "      <td>Garon</td>\n",
       "      <td>2009-02-03</td>\n",
       "      <td>New York, NY</td>\n",
       "      <td>I am an artist(painter, filmmaker) and curato...</td>\n",
       "      <td>within an hour</td>\n",
       "      <td>100%</td>\n",
       "      <td>100%</td>\n",
       "      <td>t</td>\n",
       "      <td>https://a0.muscache.com/im/pictures/user/72a61...</td>\n",
       "      <td>https://a0.muscache.com/im/pictures/user/72a61...</td>\n",
       "      <td>Bedford-Stuyvesant</td>\n",
       "      <td>2.0</td>\n",
       "      <td>2.0</td>\n",
       "      <td>['email', 'phone']</td>\n",
       "      <td>t</td>\n",
       "      <td>t</td>\n",
       "      <td>NaN</td>\n",
       "      <td>Bedford-Stuyvesant</td>\n",
       "      <td>Brooklyn</td>\n",
       "      <td>40.68535</td>\n",
       "      <td>-73.95512</td>\n",
       "      <td>Private room in rental unit</td>\n",
       "      <td>Private room</td>\n",
       "      <td>2</td>\n",
       "      <td>NaN</td>\n",
       "      <td>NaN</td>\n",
       "      <td>1.0</td>\n",
       "      <td>1.0</td>\n",
       "      <td>[\"Heating\", \"Kitchen\", \"Air conditioning\", \"Wi...</td>\n",
       "      <td>$60.00</td>\n",
       "      <td>30</td>\n",
       "      <td>730</td>\n",
       "      <td>30.0</td>\n",
       "      <td>30.0</td>\n",
       "      <td>730.0</td>\n",
       "      <td>730.0</td>\n",
       "      <td>30.0</td>\n",
       "      <td>730.0</td>\n",
       "      <td>NaN</td>\n",
       "      <td>t</td>\n",
       "      <td>5</td>\n",
       "      <td>30</td>\n",
       "      <td>60</td>\n",
       "      <td>335</td>\n",
       "      <td>2022-09-07</td>\n",
       "      <td>50</td>\n",
       "      <td>0</td>\n",
       "      <td>0</td>\n",
       "      <td>2009-05-28</td>\n",
       "      <td>2019-12-02</td>\n",
       "      <td>4.52</td>\n",
       "      <td>4.22</td>\n",
       "      <td>4.09</td>\n",
       "      <td>4.91</td>\n",
       "      <td>4.91</td>\n",
       "      <td>4.47</td>\n",
       "      <td>4.52</td>\n",
       "      <td>NaN</td>\n",
       "      <td>f</td>\n",
       "      <td>2</td>\n",
       "      <td>0</td>\n",
       "      <td>2</td>\n",
       "      <td>0</td>\n",
       "      <td>0.31</td>\n",
       "    </tr>\n",
       "    <tr>\n",
       "      <th>3</th>\n",
       "      <td>45910</td>\n",
       "      <td>https://www.airbnb.com/rooms/45910</td>\n",
       "      <td>20220907064715</td>\n",
       "      <td>2022-09-07</td>\n",
       "      <td>city scrape</td>\n",
       "      <td>Beautiful Queens Brownstone! - 5BR</td>\n",
       "      <td>&lt;b&gt;The space&lt;/b&gt;&lt;br /&gt;Beautiful, fully furnish...</td>\n",
       "      <td>NaN</td>\n",
       "      <td>https://a0.muscache.com/pictures/27117627/19ff...</td>\n",
       "      <td>204539</td>\n",
       "      <td>https://www.airbnb.com/users/show/204539</td>\n",
       "      <td>Mark</td>\n",
       "      <td>2010-08-17</td>\n",
       "      <td>New York, NY</td>\n",
       "      <td>Father of two boys - 9 &amp; 10.</td>\n",
       "      <td>within an hour</td>\n",
       "      <td>100%</td>\n",
       "      <td>19%</td>\n",
       "      <td>f</td>\n",
       "      <td>https://a0.muscache.com/im/users/204539/profil...</td>\n",
       "      <td>https://a0.muscache.com/im/users/204539/profil...</td>\n",
       "      <td>Ridgewood</td>\n",
       "      <td>7.0</td>\n",
       "      <td>7.0</td>\n",
       "      <td>['email', 'phone']</td>\n",
       "      <td>t</td>\n",
       "      <td>t</td>\n",
       "      <td>NaN</td>\n",
       "      <td>Ridgewood</td>\n",
       "      <td>Queens</td>\n",
       "      <td>40.70309</td>\n",
       "      <td>-73.89963</td>\n",
       "      <td>Entire townhouse</td>\n",
       "      <td>Entire home/apt</td>\n",
       "      <td>16</td>\n",
       "      <td>NaN</td>\n",
       "      <td>2.5 baths</td>\n",
       "      <td>5.0</td>\n",
       "      <td>10.0</td>\n",
       "      <td>[\"Hair dryer\", \"Essentials\", \"Carbon monoxide ...</td>\n",
       "      <td>$425.00</td>\n",
       "      <td>30</td>\n",
       "      <td>730</td>\n",
       "      <td>30.0</td>\n",
       "      <td>30.0</td>\n",
       "      <td>730.0</td>\n",
       "      <td>730.0</td>\n",
       "      <td>30.0</td>\n",
       "      <td>730.0</td>\n",
       "      <td>NaN</td>\n",
       "      <td>t</td>\n",
       "      <td>30</td>\n",
       "      <td>60</td>\n",
       "      <td>90</td>\n",
       "      <td>365</td>\n",
       "      <td>2022-09-07</td>\n",
       "      <td>13</td>\n",
       "      <td>0</td>\n",
       "      <td>0</td>\n",
       "      <td>2012-01-03</td>\n",
       "      <td>2019-11-12</td>\n",
       "      <td>4.42</td>\n",
       "      <td>4.64</td>\n",
       "      <td>4.36</td>\n",
       "      <td>4.82</td>\n",
       "      <td>5.00</td>\n",
       "      <td>4.82</td>\n",
       "      <td>4.55</td>\n",
       "      <td>NaN</td>\n",
       "      <td>f</td>\n",
       "      <td>6</td>\n",
       "      <td>6</td>\n",
       "      <td>0</td>\n",
       "      <td>0</td>\n",
       "      <td>0.10</td>\n",
       "    </tr>\n",
       "    <tr>\n",
       "      <th>4</th>\n",
       "      <td>5136</td>\n",
       "      <td>https://www.airbnb.com/rooms/5136</td>\n",
       "      <td>20220907064715</td>\n",
       "      <td>2022-09-07</td>\n",
       "      <td>city scrape</td>\n",
       "      <td>Spacious Brooklyn Duplex, Patio + Garden</td>\n",
       "      <td>We welcome you to stay in our lovely 2 br dupl...</td>\n",
       "      <td>NaN</td>\n",
       "      <td>https://a0.muscache.com/pictures/miso/Hosting-...</td>\n",
       "      <td>7378</td>\n",
       "      <td>https://www.airbnb.com/users/show/7378</td>\n",
       "      <td>Rebecca</td>\n",
       "      <td>2009-02-03</td>\n",
       "      <td>New York, NY</td>\n",
       "      <td>Rebecca is an artist/designer, and Henoch is i...</td>\n",
       "      <td>NaN</td>\n",
       "      <td>NaN</td>\n",
       "      <td>33%</td>\n",
       "      <td>f</td>\n",
       "      <td>https://a0.muscache.com/im/users/7378/profile_...</td>\n",
       "      <td>https://a0.muscache.com/im/users/7378/profile_...</td>\n",
       "      <td>Greenwood Heights</td>\n",
       "      <td>1.0</td>\n",
       "      <td>5.0</td>\n",
       "      <td>['email', 'phone']</td>\n",
       "      <td>t</td>\n",
       "      <td>t</td>\n",
       "      <td>NaN</td>\n",
       "      <td>Sunset Park</td>\n",
       "      <td>Brooklyn</td>\n",
       "      <td>40.66265</td>\n",
       "      <td>-73.99454</td>\n",
       "      <td>Entire rental unit</td>\n",
       "      <td>Entire home/apt</td>\n",
       "      <td>4</td>\n",
       "      <td>NaN</td>\n",
       "      <td>1.5 baths</td>\n",
       "      <td>2.0</td>\n",
       "      <td>2.0</td>\n",
       "      <td>[\"Hair dryer\", \"Cable TV\", \"Refrigerator\", \"BB...</td>\n",
       "      <td>$275.00</td>\n",
       "      <td>21</td>\n",
       "      <td>1125</td>\n",
       "      <td>21.0</td>\n",
       "      <td>21.0</td>\n",
       "      <td>1125.0</td>\n",
       "      <td>1125.0</td>\n",
       "      <td>21.0</td>\n",
       "      <td>1125.0</td>\n",
       "      <td>NaN</td>\n",
       "      <td>t</td>\n",
       "      <td>0</td>\n",
       "      <td>0</td>\n",
       "      <td>0</td>\n",
       "      <td>179</td>\n",
       "      <td>2022-09-07</td>\n",
       "      <td>3</td>\n",
       "      <td>1</td>\n",
       "      <td>1</td>\n",
       "      <td>2014-01-02</td>\n",
       "      <td>2022-08-10</td>\n",
       "      <td>5.00</td>\n",
       "      <td>5.00</td>\n",
       "      <td>5.00</td>\n",
       "      <td>5.00</td>\n",
       "      <td>5.00</td>\n",
       "      <td>4.67</td>\n",
       "      <td>5.00</td>\n",
       "      <td>NaN</td>\n",
       "      <td>f</td>\n",
       "      <td>1</td>\n",
       "      <td>1</td>\n",
       "      <td>0</td>\n",
       "      <td>0</td>\n",
       "      <td>0.03</td>\n",
       "    </tr>\n",
       "  </tbody>\n",
       "</table>\n",
       "</div>"
      ],
      "text/plain": [
       "      id                         listing_url       scrape_id last_scraped  \\\n",
       "0   2539   https://www.airbnb.com/rooms/2539  20220907064715   2022-09-07   \n",
       "1   2595   https://www.airbnb.com/rooms/2595  20220907064715   2022-09-07   \n",
       "2   5121   https://www.airbnb.com/rooms/5121  20220907064715   2022-09-07   \n",
       "3  45910  https://www.airbnb.com/rooms/45910  20220907064715   2022-09-07   \n",
       "4   5136   https://www.airbnb.com/rooms/5136  20220907064715   2022-09-07   \n",
       "\n",
       "        source                                      name  \\\n",
       "0  city scrape        Clean & quiet apt home by the park   \n",
       "1  city scrape                     Skylit Midtown Castle   \n",
       "2  city scrape                           BlissArtsSpace!   \n",
       "3  city scrape        Beautiful Queens Brownstone! - 5BR   \n",
       "4  city scrape  Spacious Brooklyn Duplex, Patio + Garden   \n",
       "\n",
       "                                         description  \\\n",
       "0  Renovated apt home in elevator building.<br />...   \n",
       "1  Beautiful, spacious skylit studio in the heart...   \n",
       "2  One room available for rent in a 2 bedroom apt...   \n",
       "3  <b>The space</b><br />Beautiful, fully furnish...   \n",
       "4  We welcome you to stay in our lovely 2 br dupl...   \n",
       "\n",
       "                               neighborhood_overview  \\\n",
       "0    Close to Prospect Park and Historic Ditmas Park   \n",
       "1  Centrally located in the heart of Manhattan ju...   \n",
       "2                                                NaN   \n",
       "3                                                NaN   \n",
       "4                                                NaN   \n",
       "\n",
       "                                         picture_url  host_id  \\\n",
       "0  https://a0.muscache.com/pictures/3949d073-a02e...     2787   \n",
       "1  https://a0.muscache.com/pictures/f0813a11-40b2...     2845   \n",
       "2  https://a0.muscache.com/pictures/2090980c-b68e...     7356   \n",
       "3  https://a0.muscache.com/pictures/27117627/19ff...   204539   \n",
       "4  https://a0.muscache.com/pictures/miso/Hosting-...     7378   \n",
       "\n",
       "                                   host_url host_name  host_since  \\\n",
       "0    https://www.airbnb.com/users/show/2787      John  2008-09-07   \n",
       "1    https://www.airbnb.com/users/show/2845  Jennifer  2008-09-09   \n",
       "2    https://www.airbnb.com/users/show/7356     Garon  2009-02-03   \n",
       "3  https://www.airbnb.com/users/show/204539      Mark  2010-08-17   \n",
       "4    https://www.airbnb.com/users/show/7378   Rebecca  2009-02-03   \n",
       "\n",
       "  host_location                                         host_about  \\\n",
       "0  New York, NY  Educated professional living in Brooklyn.  I l...   \n",
       "1  New York, NY  A New Yorker since (Phone number hidden by Air...   \n",
       "2  New York, NY   I am an artist(painter, filmmaker) and curato...   \n",
       "3  New York, NY                      Father of two boys - 9 & 10.    \n",
       "4  New York, NY  Rebecca is an artist/designer, and Henoch is i...   \n",
       "\n",
       "  host_response_time host_response_rate host_acceptance_rate  \\\n",
       "0     within an hour               100%                  90%   \n",
       "1       within a day                75%                  23%   \n",
       "2     within an hour               100%                 100%   \n",
       "3     within an hour               100%                  19%   \n",
       "4                NaN                NaN                  33%   \n",
       "\n",
       "  host_is_superhost                                 host_thumbnail_url  \\\n",
       "0                 f  https://a0.muscache.com/im/pictures/user/86745...   \n",
       "1                 f  https://a0.muscache.com/im/pictures/user/50fc5...   \n",
       "2                 t  https://a0.muscache.com/im/pictures/user/72a61...   \n",
       "3                 f  https://a0.muscache.com/im/users/204539/profil...   \n",
       "4                 f  https://a0.muscache.com/im/users/7378/profile_...   \n",
       "\n",
       "                                    host_picture_url  host_neighbourhood  \\\n",
       "0  https://a0.muscache.com/im/pictures/user/86745...           Gravesend   \n",
       "1  https://a0.muscache.com/im/pictures/user/50fc5...             Midtown   \n",
       "2  https://a0.muscache.com/im/pictures/user/72a61...  Bedford-Stuyvesant   \n",
       "3  https://a0.muscache.com/im/users/204539/profil...           Ridgewood   \n",
       "4  https://a0.muscache.com/im/users/7378/profile_...   Greenwood Heights   \n",
       "\n",
       "   host_listings_count  host_total_listings_count  \\\n",
       "0                  9.0                       12.0   \n",
       "1                  6.0                        9.0   \n",
       "2                  2.0                        2.0   \n",
       "3                  7.0                        7.0   \n",
       "4                  1.0                        5.0   \n",
       "\n",
       "                 host_verifications host_has_profile_pic  \\\n",
       "0                ['email', 'phone']                    t   \n",
       "1  ['email', 'phone', 'work_email']                    t   \n",
       "2                ['email', 'phone']                    t   \n",
       "3                ['email', 'phone']                    t   \n",
       "4                ['email', 'phone']                    t   \n",
       "\n",
       "  host_identity_verified                       neighbourhood  \\\n",
       "0                      t  Brooklyn , New York, United States   \n",
       "1                      t             New York, United States   \n",
       "2                      t                                 NaN   \n",
       "3                      t                                 NaN   \n",
       "4                      t                                 NaN   \n",
       "\n",
       "  neighbourhood_cleansed neighbourhood_group_cleansed  latitude  longitude  \\\n",
       "0             Kensington                     Brooklyn  40.64529  -73.97238   \n",
       "1                Midtown                    Manhattan  40.75356  -73.98559   \n",
       "2     Bedford-Stuyvesant                     Brooklyn  40.68535  -73.95512   \n",
       "3              Ridgewood                       Queens  40.70309  -73.89963   \n",
       "4            Sunset Park                     Brooklyn  40.66265  -73.99454   \n",
       "\n",
       "                 property_type        room_type  accommodates  bathrooms  \\\n",
       "0  Private room in rental unit     Private room             2        NaN   \n",
       "1           Entire rental unit  Entire home/apt             1        NaN   \n",
       "2  Private room in rental unit     Private room             2        NaN   \n",
       "3             Entire townhouse  Entire home/apt            16        NaN   \n",
       "4           Entire rental unit  Entire home/apt             4        NaN   \n",
       "\n",
       "  bathrooms_text  bedrooms  beds  \\\n",
       "0  1 shared bath       1.0   1.0   \n",
       "1         1 bath       NaN   1.0   \n",
       "2            NaN       1.0   1.0   \n",
       "3      2.5 baths       5.0  10.0   \n",
       "4      1.5 baths       2.0   2.0   \n",
       "\n",
       "                                           amenities    price  minimum_nights  \\\n",
       "0  [\"First aid kit\", \"Microwave\", \"Stove\", \"Coffe...  $299.00              30   \n",
       "1  [\"Stove\", \"Coffee maker\", \"Long term stays all...  $175.00              30   \n",
       "2  [\"Heating\", \"Kitchen\", \"Air conditioning\", \"Wi...   $60.00              30   \n",
       "3  [\"Hair dryer\", \"Essentials\", \"Carbon monoxide ...  $425.00              30   \n",
       "4  [\"Hair dryer\", \"Cable TV\", \"Refrigerator\", \"BB...  $275.00              21   \n",
       "\n",
       "   maximum_nights  minimum_minimum_nights  maximum_minimum_nights  \\\n",
       "0             730                    30.0                    30.0   \n",
       "1            1125                    30.0                    30.0   \n",
       "2             730                    30.0                    30.0   \n",
       "3             730                    30.0                    30.0   \n",
       "4            1125                    21.0                    21.0   \n",
       "\n",
       "   minimum_maximum_nights  maximum_maximum_nights  minimum_nights_avg_ntm  \\\n",
       "0                   730.0                   730.0                    30.0   \n",
       "1                  1125.0                  1125.0                    30.0   \n",
       "2                   730.0                   730.0                    30.0   \n",
       "3                   730.0                   730.0                    30.0   \n",
       "4                  1125.0                  1125.0                    21.0   \n",
       "\n",
       "   maximum_nights_avg_ntm  calendar_updated has_availability  availability_30  \\\n",
       "0                   730.0               NaN                t               21   \n",
       "1                  1125.0               NaN                t                0   \n",
       "2                   730.0               NaN                t                5   \n",
       "3                   730.0               NaN                t               30   \n",
       "4                  1125.0               NaN                t                0   \n",
       "\n",
       "   availability_60  availability_90  availability_365 calendar_last_scraped  \\\n",
       "0               51               81               356            2022-09-07   \n",
       "1                0                5               280            2022-09-07   \n",
       "2               30               60               335            2022-09-07   \n",
       "3               60               90               365            2022-09-07   \n",
       "4                0                0               179            2022-09-07   \n",
       "\n",
       "   number_of_reviews  number_of_reviews_ltm  number_of_reviews_l30d  \\\n",
       "0                  9                      0                       0   \n",
       "1                 49                      1                       0   \n",
       "2                 50                      0                       0   \n",
       "3                 13                      0                       0   \n",
       "4                  3                      1                       1   \n",
       "\n",
       "  first_review last_review  review_scores_rating  review_scores_accuracy  \\\n",
       "0   2015-12-04  2018-10-19                  4.89                    4.88   \n",
       "1   2009-11-21  2022-06-21                  4.68                    4.73   \n",
       "2   2009-05-28  2019-12-02                  4.52                    4.22   \n",
       "3   2012-01-03  2019-11-12                  4.42                    4.64   \n",
       "4   2014-01-02  2022-08-10                  5.00                    5.00   \n",
       "\n",
       "   review_scores_cleanliness  review_scores_checkin  \\\n",
       "0                       5.00                   5.00   \n",
       "1                       4.63                   4.77   \n",
       "2                       4.09                   4.91   \n",
       "3                       4.36                   4.82   \n",
       "4                       5.00                   5.00   \n",
       "\n",
       "   review_scores_communication  review_scores_location  review_scores_value  \\\n",
       "0                         5.00                    4.75                 4.88   \n",
       "1                         4.80                    4.81                 4.40   \n",
       "2                         4.91                    4.47                 4.52   \n",
       "3                         5.00                    4.82                 4.55   \n",
       "4                         5.00                    4.67                 5.00   \n",
       "\n",
       "  license instant_bookable  calculated_host_listings_count  \\\n",
       "0     NaN                f                               9   \n",
       "1     NaN                f                               3   \n",
       "2     NaN                f                               2   \n",
       "3     NaN                f                               6   \n",
       "4     NaN                f                               1   \n",
       "\n",
       "   calculated_host_listings_count_entire_homes  \\\n",
       "0                                            1   \n",
       "1                                            3   \n",
       "2                                            0   \n",
       "3                                            6   \n",
       "4                                            1   \n",
       "\n",
       "   calculated_host_listings_count_private_rooms  \\\n",
       "0                                             6   \n",
       "1                                             0   \n",
       "2                                             2   \n",
       "3                                             0   \n",
       "4                                             0   \n",
       "\n",
       "   calculated_host_listings_count_shared_rooms  reviews_per_month  \n",
       "0                                            2               0.11  \n",
       "1                                            0               0.31  \n",
       "2                                            0               0.31  \n",
       "3                                            0               0.10  \n",
       "4                                            0               0.03  "
      ]
     },
     "execution_count": 3,
     "metadata": {},
     "output_type": "execute_result"
    }
   ],
   "source": [
    "df_listings.head()"
   ]
  },
  {
   "cell_type": "code",
   "execution_count": 4,
   "id": "b8e82302",
   "metadata": {},
   "outputs": [],
   "source": [
    "# df_listings.info()"
   ]
  },
  {
   "cell_type": "markdown",
   "id": "682dd28b",
   "metadata": {},
   "source": [
    "# Target variable preprocessing"
   ]
  },
  {
   "cell_type": "code",
   "execution_count": 5,
   "id": "82b51b5f",
   "metadata": {},
   "outputs": [
    {
     "data": {
      "text/plain": [
       "22960     $40.00\n",
       "768      $100.00\n",
       "3001      $73.00\n",
       "14839     $40.00\n",
       "9131     $175.00\n",
       "2831     $185.00\n",
       "30879     $99.00\n",
       "2932     $190.00\n",
       "11282     $59.00\n",
       "19646    $220.00\n",
       "34348    $319.00\n",
       "37784     $77.00\n",
       "4862     $130.00\n",
       "6859      $90.00\n",
       "28627    $220.00\n",
       "10606     $99.00\n",
       "30442    $117.00\n",
       "36644    $134.00\n",
       "36267     $53.00\n",
       "32824    $657.00\n",
       "Name: price, dtype: object"
      ]
     },
     "execution_count": 5,
     "metadata": {},
     "output_type": "execute_result"
    }
   ],
   "source": [
    "df_listings.price.sample(20)"
   ]
  },
  {
   "cell_type": "code",
   "execution_count": 6,
   "id": "b946d3cc",
   "metadata": {},
   "outputs": [],
   "source": [
    "df_listings['price'] = df_listings.price.str.replace(\"\\$|,\", \"\", regex=True).astype(\"float32\")"
   ]
  },
  {
   "cell_type": "code",
   "execution_count": 7,
   "id": "51f40b17",
   "metadata": {},
   "outputs": [
    {
     "data": {
      "text/plain": [
       "<AxesSubplot:>"
      ]
     },
     "execution_count": 7,
     "metadata": {},
     "output_type": "execute_result"
    },
    {
     "data": {
      "image/png": "[encoded data removed]",
      "text/plain": [
       "<Figure size 640x480 with 1 Axes>"
      ]
     },
     "metadata": {},
     "output_type": "display_data"
    }
   ],
   "source": [
    "df_listings.price.hist(bins=100)"
   ]
  },
  {
   "cell_type": "code",
   "execution_count": 8,
   "id": "ebb9ccdb",
   "metadata": {},
   "outputs": [],
   "source": [
    "df_listings = df_listings[df_listings.price != 0]"
   ]
  },
  {
   "cell_type": "code",
   "execution_count": 9,
   "id": "988a6963",
   "metadata": {},
   "outputs": [],
   "source": [
    "df_listings['target'] = np.log(df_listings.price)"
   ]
  },
  {
   "cell_type": "code",
   "execution_count": 10,
   "id": "03fdee95",
   "metadata": {},
   "outputs": [
    {
     "data": {
      "text/plain": [
       "<AxesSubplot:>"
      ]
     },
     "execution_count": 10,
     "metadata": {},
     "output_type": "execute_result"
    },
    {
     "data": {
      "image/png": "[encoded data removed]",
      "text/plain": [
       "<Figure size 640x480 with 1 Axes>"
      ]
     },
     "metadata": {},
     "output_type": "display_data"
    }
   ],
   "source": [
    "df_listings['target'].hist(bins=30)"
   ]
  },
  {
   "cell_type": "markdown",
   "id": "53cb6a9f",
   "metadata": {},
   "source": [
    "# Define lists of columns to create features"
   ]
  },
  {
   "cell_type": "code",
   "execution_count": 11,
   "id": "2e1aa900",
   "metadata": {},
   "outputs": [],
   "source": [
    "raw_features = [\"host_since\", \"host_about\",\"host_response_time\", \n",
    "                \"host_response_rate\", \"host_acceptance_rate\", \"host_is_superhost\", \n",
    "                \"host_neighbourhood\", \"host_verifications\", \"host_listings_count\", \n",
    "                \"instant_bookable\", \"latitude\", \"longitude\", \"neighbourhood_cleansed\",\n",
    "                \"neighbourhood_group_cleansed\", \"property_type\", \"room_type\", \n",
    "                \"accommodates\", \"bathrooms\", \"bathrooms_text\", \"bedrooms\", \"beds\",\n",
    "                \"first_review\", \"last_review\"]"
   ]
  },
  {
   "cell_type": "code",
   "execution_count": 12,
   "id": "e0c0f992",
   "metadata": {},
   "outputs": [
    {
     "data": {
      "text/html": [
       "<div>\n",
       "<style scoped>\n",
       "    .dataframe tbody tr th:only-of-type {\n",
       "        vertical-align: middle;\n",
       "    }\n",
       "\n",
       "    .dataframe tbody tr th {\n",
       "        vertical-align: top;\n",
       "    }\n",
       "\n",
       "    .dataframe thead th {\n",
       "        text-align: right;\n",
       "    }\n",
       "</style>\n",
       "<table border=\"1\" class=\"dataframe\">\n",
       "  <thead>\n",
       "    <tr style=\"text-align: right;\">\n",
       "      <th></th>\n",
       "      <th>host_since</th>\n",
       "      <th>host_about</th>\n",
       "      <th>host_response_time</th>\n",
       "      <th>host_response_rate</th>\n",
       "      <th>host_acceptance_rate</th>\n",
       "      <th>host_is_superhost</th>\n",
       "      <th>host_neighbourhood</th>\n",
       "      <th>host_verifications</th>\n",
       "      <th>host_listings_count</th>\n",
       "      <th>instant_bookable</th>\n",
       "      <th>latitude</th>\n",
       "      <th>longitude</th>\n",
       "      <th>neighbourhood_cleansed</th>\n",
       "      <th>neighbourhood_group_cleansed</th>\n",
       "      <th>property_type</th>\n",
       "      <th>room_type</th>\n",
       "      <th>accommodates</th>\n",
       "      <th>bathrooms</th>\n",
       "      <th>bathrooms_text</th>\n",
       "      <th>bedrooms</th>\n",
       "      <th>beds</th>\n",
       "      <th>first_review</th>\n",
       "      <th>last_review</th>\n",
       "    </tr>\n",
       "  </thead>\n",
       "  <tbody>\n",
       "    <tr>\n",
       "      <th>0</th>\n",
       "      <td>2008-09-07</td>\n",
       "      <td>Educated professional living in Brooklyn.  I l...</td>\n",
       "      <td>within an hour</td>\n",
       "      <td>100%</td>\n",
       "      <td>90%</td>\n",
       "      <td>f</td>\n",
       "      <td>Gravesend</td>\n",
       "      <td>['email', 'phone']</td>\n",
       "      <td>9.0</td>\n",
       "      <td>f</td>\n",
       "      <td>40.64529</td>\n",
       "      <td>-73.97238</td>\n",
       "      <td>Kensington</td>\n",
       "      <td>Brooklyn</td>\n",
       "      <td>Private room in rental unit</td>\n",
       "      <td>Private room</td>\n",
       "      <td>2</td>\n",
       "      <td>NaN</td>\n",
       "      <td>1 shared bath</td>\n",
       "      <td>1.0</td>\n",
       "      <td>1.0</td>\n",
       "      <td>2015-12-04</td>\n",
       "      <td>2018-10-19</td>\n",
       "    </tr>\n",
       "    <tr>\n",
       "      <th>1</th>\n",
       "      <td>2008-09-09</td>\n",
       "      <td>A New Yorker since (Phone number hidden by Air...</td>\n",
       "      <td>within a day</td>\n",
       "      <td>75%</td>\n",
       "      <td>23%</td>\n",
       "      <td>f</td>\n",
       "      <td>Midtown</td>\n",
       "      <td>['email', 'phone', 'work_email']</td>\n",
       "      <td>6.0</td>\n",
       "      <td>f</td>\n",
       "      <td>40.75356</td>\n",
       "      <td>-73.98559</td>\n",
       "      <td>Midtown</td>\n",
       "      <td>Manhattan</td>\n",
       "      <td>Entire rental unit</td>\n",
       "      <td>Entire home/apt</td>\n",
       "      <td>1</td>\n",
       "      <td>NaN</td>\n",
       "      <td>1 bath</td>\n",
       "      <td>NaN</td>\n",
       "      <td>1.0</td>\n",
       "      <td>2009-11-21</td>\n",
       "      <td>2022-06-21</td>\n",
       "    </tr>\n",
       "    <tr>\n",
       "      <th>2</th>\n",
       "      <td>2009-02-03</td>\n",
       "      <td>I am an artist(painter, filmmaker) and curato...</td>\n",
       "      <td>within an hour</td>\n",
       "      <td>100%</td>\n",
       "      <td>100%</td>\n",
       "      <td>t</td>\n",
       "      <td>Bedford-Stuyvesant</td>\n",
       "      <td>['email', 'phone']</td>\n",
       "      <td>2.0</td>\n",
       "      <td>f</td>\n",
       "      <td>40.68535</td>\n",
       "      <td>-73.95512</td>\n",
       "      <td>Bedford-Stuyvesant</td>\n",
       "      <td>Brooklyn</td>\n",
       "      <td>Private room in rental unit</td>\n",
       "      <td>Private room</td>\n",
       "      <td>2</td>\n",
       "      <td>NaN</td>\n",
       "      <td>NaN</td>\n",
       "      <td>1.0</td>\n",
       "      <td>1.0</td>\n",
       "      <td>2009-05-28</td>\n",
       "      <td>2019-12-02</td>\n",
       "    </tr>\n",
       "    <tr>\n",
       "      <th>3</th>\n",
       "      <td>2010-08-17</td>\n",
       "      <td>Father of two boys - 9 &amp; 10.</td>\n",
       "      <td>within an hour</td>\n",
       "      <td>100%</td>\n",
       "      <td>19%</td>\n",
       "      <td>f</td>\n",
       "      <td>Ridgewood</td>\n",
       "      <td>['email', 'phone']</td>\n",
       "      <td>7.0</td>\n",
       "      <td>f</td>\n",
       "      <td>40.70309</td>\n",
       "      <td>-73.89963</td>\n",
       "      <td>Ridgewood</td>\n",
       "      <td>Queens</td>\n",
       "      <td>Entire townhouse</td>\n",
       "      <td>Entire home/apt</td>\n",
       "      <td>16</td>\n",
       "      <td>NaN</td>\n",
       "      <td>2.5 baths</td>\n",
       "      <td>5.0</td>\n",
       "      <td>10.0</td>\n",
       "      <td>2012-01-03</td>\n",
       "      <td>2019-11-12</td>\n",
       "    </tr>\n",
       "    <tr>\n",
       "      <th>4</th>\n",
       "      <td>2009-02-03</td>\n",
       "      <td>Rebecca is an artist/designer, and Henoch is i...</td>\n",
       "      <td>NaN</td>\n",
       "      <td>NaN</td>\n",
       "      <td>33%</td>\n",
       "      <td>f</td>\n",
       "      <td>Greenwood Heights</td>\n",
       "      <td>['email', 'phone']</td>\n",
       "      <td>1.0</td>\n",
       "      <td>f</td>\n",
       "      <td>40.66265</td>\n",
       "      <td>-73.99454</td>\n",
       "      <td>Sunset Park</td>\n",
       "      <td>Brooklyn</td>\n",
       "      <td>Entire rental unit</td>\n",
       "      <td>Entire home/apt</td>\n",
       "      <td>4</td>\n",
       "      <td>NaN</td>\n",
       "      <td>1.5 baths</td>\n",
       "      <td>2.0</td>\n",
       "      <td>2.0</td>\n",
       "      <td>2014-01-02</td>\n",
       "      <td>2022-08-10</td>\n",
       "    </tr>\n",
       "  </tbody>\n",
       "</table>\n",
       "</div>"
      ],
      "text/plain": [
       "   host_since                                         host_about  \\\n",
       "0  2008-09-07  Educated professional living in Brooklyn.  I l...   \n",
       "1  2008-09-09  A New Yorker since (Phone number hidden by Air...   \n",
       "2  2009-02-03   I am an artist(painter, filmmaker) and curato...   \n",
       "3  2010-08-17                      Father of two boys - 9 & 10.    \n",
       "4  2009-02-03  Rebecca is an artist/designer, and Henoch is i...   \n",
       "\n",
       "  host_response_time host_response_rate host_acceptance_rate  \\\n",
       "0     within an hour               100%                  90%   \n",
       "1       within a day                75%                  23%   \n",
       "2     within an hour               100%                 100%   \n",
       "3     within an hour               100%                  19%   \n",
       "4                NaN                NaN                  33%   \n",
       "\n",
       "  host_is_superhost  host_neighbourhood                host_verifications  \\\n",
       "0                 f           Gravesend                ['email', 'phone']   \n",
       "1                 f             Midtown  ['email', 'phone', 'work_email']   \n",
       "2                 t  Bedford-Stuyvesant                ['email', 'phone']   \n",
       "3                 f           Ridgewood                ['email', 'phone']   \n",
       "4                 f   Greenwood Heights                ['email', 'phone']   \n",
       "\n",
       "   host_listings_count instant_bookable  latitude  longitude  \\\n",
       "0                  9.0                f  40.64529  -73.97238   \n",
       "1                  6.0                f  40.75356  -73.98559   \n",
       "2                  2.0                f  40.68535  -73.95512   \n",
       "3                  7.0                f  40.70309  -73.89963   \n",
       "4                  1.0                f  40.66265  -73.99454   \n",
       "\n",
       "  neighbourhood_cleansed neighbourhood_group_cleansed  \\\n",
       "0             Kensington                     Brooklyn   \n",
       "1                Midtown                    Manhattan   \n",
       "2     Bedford-Stuyvesant                     Brooklyn   \n",
       "3              Ridgewood                       Queens   \n",
       "4            Sunset Park                     Brooklyn   \n",
       "\n",
       "                 property_type        room_type  accommodates  bathrooms  \\\n",
       "0  Private room in rental unit     Private room             2        NaN   \n",
       "1           Entire rental unit  Entire home/apt             1        NaN   \n",
       "2  Private room in rental unit     Private room             2        NaN   \n",
       "3             Entire townhouse  Entire home/apt            16        NaN   \n",
       "4           Entire rental unit  Entire home/apt             4        NaN   \n",
       "\n",
       "  bathrooms_text  bedrooms  beds first_review last_review  \n",
       "0  1 shared bath       1.0   1.0   2015-12-04  2018-10-19  \n",
       "1         1 bath       NaN   1.0   2009-11-21  2022-06-21  \n",
       "2            NaN       1.0   1.0   2009-05-28  2019-12-02  \n",
       "3      2.5 baths       5.0  10.0   2012-01-03  2019-11-12  \n",
       "4      1.5 baths       2.0   2.0   2014-01-02  2022-08-10  "
      ]
     },
     "execution_count": 12,
     "metadata": {},
     "output_type": "execute_result"
    }
   ],
   "source": [
    "df_listings[raw_features].head(5)"
   ]
  },
  {
   "cell_type": "code",
   "execution_count": null,
   "id": "d15396f7",
   "metadata": {},
   "outputs": [],
   "source": []
  },
  {
   "cell_type": "code",
   "execution_count": null,
   "id": "8a1a43a0",
   "metadata": {},
   "outputs": [],
   "source": []
  },
  {
   "cell_type": "markdown",
   "id": "f1b59e89",
   "metadata": {},
   "source": [
    "# I need to complete these lists with the relevant columns"
   ]
  },
  {
   "cell_type": "code",
   "execution_count": 13,
   "id": "d861ea06",
   "metadata": {},
   "outputs": [],
   "source": [
    "date_features = [\"host_since\", \"first_review\", \"last_review\"]\n",
    "numeric_features = [\"host_response_rate\", \"host_acceptance_rate\", \"host_is_superhost\", \n",
    "                   \"host_listings_count\", \"instant_bookable\", \n",
    "                   \"latitude\", \"longitude\", \"accommodates\", \"bedrooms\", \"beds\", \"bathrooms_text\"]\n",
    "categorical_features = ['neighbourhood_cleansed', 'neighbourhood_group_cleansed', \n",
    "                        'property_type', 'room_type']"
   ]
  },
  {
   "cell_type": "markdown",
   "id": "4320062e",
   "metadata": {},
   "source": [
    "# Feature engineering - Numeric Variables"
   ]
  },
  {
   "cell_type": "code",
   "execution_count": 14,
   "id": "4a7c2143",
   "metadata": {},
   "outputs": [],
   "source": [
    "df_listings['host_response_rate'] = df_listings.host_response_rate.str.replace(\"%\", \"\").astype(\"float32\")"
   ]
  },
  {
   "cell_type": "code",
   "execution_count": 15,
   "id": "e631fe8d",
   "metadata": {},
   "outputs": [],
   "source": [
    "df_listings['host_acceptance_rate'] = df_listings.host_acceptance_rate.str.replace(\"%\", \"\").astype(\"float32\")"
   ]
  },
  {
   "cell_type": "code",
   "execution_count": 16,
   "id": "713a8a4c",
   "metadata": {},
   "outputs": [],
   "source": [
    "lkp_boolean = {\"t\":1, \"f\":0}\n",
    "df_listings['host_is_superhost'] = df_listings.host_is_superhost.map(lkp_boolean)"
   ]
  },
  {
   "cell_type": "code",
   "execution_count": 17,
   "id": "2acbccb5",
   "metadata": {},
   "outputs": [],
   "source": [
    "df_listings['instant_bookable'] = df_listings.instant_bookable.map(lkp_boolean)"
   ]
  },
  {
   "cell_type": "code",
   "execution_count": 18,
   "id": "1f820154",
   "metadata": {},
   "outputs": [],
   "source": [
    "def test_shared_bath(x):\n",
    "    if \"shared\" in str(x):\n",
    "        return 1\n",
    "    else:\n",
    "        return 0"
   ]
  },
  {
   "cell_type": "code",
   "execution_count": 19,
   "id": "c8af3423",
   "metadata": {},
   "outputs": [],
   "source": [
    "df_listings['shared_bathrooms'] = df_listings.bathrooms_text.apply(test_shared_bath)"
   ]
  },
  {
   "cell_type": "code",
   "execution_count": 20,
   "id": "43bcd99e",
   "metadata": {},
   "outputs": [],
   "source": [
    "def get_nbr_bathrooms(x):\n",
    "    if x is np.NaN:\n",
    "        return 0\n",
    "    elif \"half-bath\" in x.lower():\n",
    "        return 0.5\n",
    "    else:\n",
    "        return float(x.split(\" \")[0])"
   ]
  },
  {
   "cell_type": "code",
   "execution_count": 21,
   "id": "854dfa28",
   "metadata": {},
   "outputs": [
    {
     "data": {
      "text/plain": [
       "1.0"
      ]
     },
     "execution_count": 21,
     "metadata": {},
     "output_type": "execute_result"
    }
   ],
   "source": [
    "get_nbr_bathrooms(\"1 shared bath\")"
   ]
  },
  {
   "cell_type": "code",
   "execution_count": 22,
   "id": "b4dcaca7",
   "metadata": {},
   "outputs": [],
   "source": [
    "df_listings['nbr_bathrooms'] = df_listings.bathrooms_text.apply(get_nbr_bathrooms)"
   ]
  },
  {
   "cell_type": "code",
   "execution_count": 23,
   "id": "4ac765b9",
   "metadata": {},
   "outputs": [],
   "source": [
    "df_listings['host_lives_nbh'] = (df_listings.host_neighbourhood == df_listings.neighbourhood_cleansed).astype(\"int8\")"
   ]
  },
  {
   "cell_type": "code",
   "execution_count": 24,
   "id": "ed7d29ba",
   "metadata": {},
   "outputs": [],
   "source": [
    "date_features = [\"host_since\", \"first_review\", \"last_review\"]\n",
    "numeric_features = [\"host_response_rate\", \"host_acceptance_rate\", \"host_is_superhost\", \n",
    "                   \"host_listings_count\", \"instant_bookable\", \n",
    "                   \"latitude\", \"longitude\", \"accommodates\", \"bedrooms\", \"beds\", \n",
    "                    \"nbr_bathrooms\", \"shared_bathrooms\", \"host_lives_nbh\"]\n",
    "categorical_features = [\"host_response_time\", \"neighbourhood_group_cleansed\", \n",
    "                        \"neighbourhood_cleansed\", \"property_type\", \"room_type\"]"
   ]
  },
  {
   "cell_type": "code",
   "execution_count": 25,
   "id": "8588b593",
   "metadata": {},
   "outputs": [
    {
     "data": {
      "text/plain": [
       "host_response_rate      float32\n",
       "host_acceptance_rate    float32\n",
       "host_is_superhost         int64\n",
       "host_listings_count     float64\n",
       "instant_bookable          int64\n",
       "latitude                float64\n",
       "longitude               float64\n",
       "accommodates              int64\n",
       "bedrooms                float64\n",
       "beds                    float64\n",
       "nbr_bathrooms           float64\n",
       "shared_bathrooms          int64\n",
       "host_lives_nbh             int8\n",
       "dtype: object"
      ]
     },
     "execution_count": 25,
     "metadata": {},
     "output_type": "execute_result"
    }
   ],
   "source": [
    "df_listings[numeric_features].dtypes"
   ]
  },
  {
   "cell_type": "markdown",
   "id": "3aea4904",
   "metadata": {},
   "source": [
    "# Feature engineering - Categorical variables"
   ]
  },
  {
   "cell_type": "code",
   "execution_count": 26,
   "id": "bde48fb2",
   "metadata": {},
   "outputs": [
    {
     "data": {
      "text/html": [
       "<div>\n",
       "<style scoped>\n",
       "    .dataframe tbody tr th:only-of-type {\n",
       "        vertical-align: middle;\n",
       "    }\n",
       "\n",
       "    .dataframe tbody tr th {\n",
       "        vertical-align: top;\n",
       "    }\n",
       "\n",
       "    .dataframe thead th {\n",
       "        text-align: right;\n",
       "    }\n",
       "</style>\n",
       "<table border=\"1\" class=\"dataframe\">\n",
       "  <thead>\n",
       "    <tr style=\"text-align: right;\">\n",
       "      <th></th>\n",
       "      <th>host_response_time</th>\n",
       "      <th>neighbourhood_group_cleansed</th>\n",
       "      <th>neighbourhood_cleansed</th>\n",
       "      <th>property_type</th>\n",
       "      <th>room_type</th>\n",
       "    </tr>\n",
       "  </thead>\n",
       "  <tbody>\n",
       "    <tr>\n",
       "      <th>0</th>\n",
       "      <td>within an hour</td>\n",
       "      <td>Brooklyn</td>\n",
       "      <td>Kensington</td>\n",
       "      <td>Private room in rental unit</td>\n",
       "      <td>Private room</td>\n",
       "    </tr>\n",
       "    <tr>\n",
       "      <th>1</th>\n",
       "      <td>within a day</td>\n",
       "      <td>Manhattan</td>\n",
       "      <td>Midtown</td>\n",
       "      <td>Entire rental unit</td>\n",
       "      <td>Entire home/apt</td>\n",
       "    </tr>\n",
       "    <tr>\n",
       "      <th>2</th>\n",
       "      <td>within an hour</td>\n",
       "      <td>Brooklyn</td>\n",
       "      <td>Bedford-Stuyvesant</td>\n",
       "      <td>Private room in rental unit</td>\n",
       "      <td>Private room</td>\n",
       "    </tr>\n",
       "    <tr>\n",
       "      <th>3</th>\n",
       "      <td>within an hour</td>\n",
       "      <td>Queens</td>\n",
       "      <td>Ridgewood</td>\n",
       "      <td>Entire townhouse</td>\n",
       "      <td>Entire home/apt</td>\n",
       "    </tr>\n",
       "    <tr>\n",
       "      <th>4</th>\n",
       "      <td>NaN</td>\n",
       "      <td>Brooklyn</td>\n",
       "      <td>Sunset Park</td>\n",
       "      <td>Entire rental unit</td>\n",
       "      <td>Entire home/apt</td>\n",
       "    </tr>\n",
       "  </tbody>\n",
       "</table>\n",
       "</div>"
      ],
      "text/plain": [
       "  host_response_time neighbourhood_group_cleansed neighbourhood_cleansed  \\\n",
       "0     within an hour                     Brooklyn             Kensington   \n",
       "1       within a day                    Manhattan                Midtown   \n",
       "2     within an hour                     Brooklyn     Bedford-Stuyvesant   \n",
       "3     within an hour                       Queens              Ridgewood   \n",
       "4                NaN                     Brooklyn            Sunset Park   \n",
       "\n",
       "                 property_type        room_type  \n",
       "0  Private room in rental unit     Private room  \n",
       "1           Entire rental unit  Entire home/apt  \n",
       "2  Private room in rental unit     Private room  \n",
       "3             Entire townhouse  Entire home/apt  \n",
       "4           Entire rental unit  Entire home/apt  "
      ]
     },
     "execution_count": 26,
     "metadata": {},
     "output_type": "execute_result"
    }
   ],
   "source": [
    "df_listings[categorical_features].head()"
   ]
  },
  {
   "cell_type": "code",
   "execution_count": 27,
   "id": "5ef76073",
   "metadata": {},
   "outputs": [
    {
     "data": {
      "text/plain": [
       "within an hour        16401\n",
       "within a few hours     5628\n",
       "within a day           3472\n",
       "a few days or more      813\n",
       "Name: host_response_time, dtype: int64"
      ]
     },
     "execution_count": 27,
     "metadata": {},
     "output_type": "execute_result"
    }
   ],
   "source": [
    "df_listings.host_response_time.value_counts()"
   ]
  },
  {
   "cell_type": "code",
   "execution_count": 28,
   "id": "88986062",
   "metadata": {},
   "outputs": [],
   "source": [
    "host_response_time_lkp = {'within an hour':\"hour\", \n",
    "                          'within a day':\"one_day\", \n",
    "                          'within a few hours':\"few_hours\", \n",
    "                          'a few days or more':\"few_days\"}"
   ]
  },
  {
   "cell_type": "code",
   "execution_count": 29,
   "id": "ee9cddd5",
   "metadata": {},
   "outputs": [],
   "source": [
    "df_listings['host_response_time'] = df_listings.host_response_time.map(host_response_time_lkp)"
   ]
  },
  {
   "cell_type": "code",
   "execution_count": 30,
   "id": "26e33761",
   "metadata": {},
   "outputs": [
    {
     "data": {
      "text/plain": [
       "Bedford-Stuyvesant    2778\n",
       "Williamsburg          2453\n",
       "Harlem                1878\n",
       "Midtown               1694\n",
       "Bushwick              1657\n",
       "                      ... \n",
       "Hollis Hills             1\n",
       "Woodrow                  1\n",
       "Westerleigh              1\n",
       "Country Club             1\n",
       "Bull's Head              1\n",
       "Name: neighbourhood_cleansed, Length: 244, dtype: int64"
      ]
     },
     "execution_count": 30,
     "metadata": {},
     "output_type": "execute_result"
    }
   ],
   "source": [
    "df_listings.neighbourhood_cleansed.value_counts()"
   ]
  },
  {
   "cell_type": "code",
   "execution_count": 31,
   "id": "3d400871",
   "metadata": {},
   "outputs": [
    {
     "data": {
      "text/plain": [
       "Entire rental unit             16842\n",
       "Private room in rental unit    10489\n",
       "Private room in home            2132\n",
       "Entire condo                    1642\n",
       "Entire home                     1476\n",
       "Private room in townhouse       1065\n",
       "Entire loft                      746\n",
       "Room in hotel                    665\n",
       "Entire townhouse                 659\n",
       "Entire serviced apartment        614\n",
       "Name: property_type, dtype: int64"
      ]
     },
     "execution_count": 31,
     "metadata": {},
     "output_type": "execute_result"
    }
   ],
   "source": [
    "df_listings.property_type.value_counts().nlargest(10)"
   ]
  },
  {
   "cell_type": "code",
   "execution_count": 32,
   "id": "490a9d15",
   "metadata": {},
   "outputs": [
    {
     "data": {
      "text/plain": [
       "Entire home/apt    22761\n",
       "Private room       16361\n",
       "Shared room          557\n",
       "Hotel room           172\n",
       "Name: room_type, dtype: int64"
      ]
     },
     "execution_count": 32,
     "metadata": {},
     "output_type": "execute_result"
    }
   ],
   "source": [
    "df_listings.room_type.value_counts()"
   ]
  },
  {
   "cell_type": "code",
   "execution_count": 33,
   "id": "064c8d91",
   "metadata": {},
   "outputs": [],
   "source": [
    "s = df_listings.host_verifications.head(1).values[0]"
   ]
  },
  {
   "cell_type": "code",
   "execution_count": 34,
   "id": "83792481",
   "metadata": {},
   "outputs": [
    {
     "data": {
      "text/plain": [
       "\"['email', 'phone']\""
      ]
     },
     "execution_count": 34,
     "metadata": {},
     "output_type": "execute_result"
    }
   ],
   "source": [
    "s"
   ]
  },
  {
   "cell_type": "code",
   "execution_count": 35,
   "id": "33952354",
   "metadata": {},
   "outputs": [],
   "source": [
    "import ast"
   ]
  },
  {
   "cell_type": "code",
   "execution_count": 36,
   "id": "d2fd1fd8",
   "metadata": {},
   "outputs": [
    {
     "data": {
      "text/plain": [
       "2"
      ]
     },
     "execution_count": 36,
     "metadata": {},
     "output_type": "execute_result"
    }
   ],
   "source": [
    "len(ast.literal_eval(s))"
   ]
  },
  {
   "cell_type": "code",
   "execution_count": 37,
   "id": "024ef790",
   "metadata": {},
   "outputs": [],
   "source": [
    "def count_verification_methods(x):\n",
    "    x = ast.literal_eval(x)\n",
    "    if x is not None:\n",
    "        return len(x)\n",
    "    else:\n",
    "        return 0"
   ]
  },
  {
   "cell_type": "code",
   "execution_count": 38,
   "id": "3bec9cde",
   "metadata": {},
   "outputs": [
    {
     "data": {
      "text/plain": [
       "2"
      ]
     },
     "execution_count": 38,
     "metadata": {},
     "output_type": "execute_result"
    }
   ],
   "source": [
    "count_verification_methods(s)"
   ]
  },
  {
   "cell_type": "code",
   "execution_count": 39,
   "id": "b3df38a6",
   "metadata": {},
   "outputs": [],
   "source": [
    "df_listings['nbr_host_verifications'] = df_listings.host_verifications.apply(count_verification_methods)"
   ]
  },
  {
   "cell_type": "code",
   "execution_count": 40,
   "id": "b2efd385",
   "metadata": {},
   "outputs": [
    {
     "data": {
      "text/plain": [
       "336"
      ]
     },
     "execution_count": 40,
     "metadata": {},
     "output_type": "execute_result"
    }
   ],
   "source": [
    "df_listings[categorical_features].nunique().sum()"
   ]
  },
  {
   "cell_type": "markdown",
   "id": "1a3a456e",
   "metadata": {},
   "source": [
    "# Feature engineering - Date variables"
   ]
  },
  {
   "cell_type": "code",
   "execution_count": null,
   "id": "a3080a2f",
   "metadata": {},
   "outputs": [],
   "source": [
    "date_features = [\"host_since\", \"first_review\", \"last_review\"]\n",
    "numeric_features = [\"host_response_rate\", \"host_acceptance_rate\", \"host_is_superhost\", \n",
    "                   \"host_listings_count\", \"instant_bookable\", \n",
    "                   \"latitude\", \"longitude\", \"accommodates\", \"bedrooms\", \"beds\", \n",
    "                    \"nbr_bathrooms\", \"shared_bathrooms\", \"host_lives_nbh\", \n",
    "                   \"nbr_host_verifications\"]\n",
    "categorical_features = [\"host_response_time\", \"neighbourhood_group_cleansed\", \n",
    "                        \"neighbourhood_cleansed\", \"property_type\", \"room_type\"]"
   ]
  },
  {
   "cell_type": "code",
   "execution_count": null,
   "id": "703b92c3",
   "metadata": {},
   "outputs": [],
   "source": [
    "df_listings[date_features].head()"
   ]
  },
  {
   "cell_type": "code",
   "execution_count": null,
   "id": "6b7d2bb0",
   "metadata": {},
   "outputs": [],
   "source": [
    "todays_date = pd.to_datetime(\"2022-11-20\")\n",
    "todays_date"
   ]
  },
  {
   "cell_type": "code",
   "execution_count": null,
   "id": "b596dcdc",
   "metadata": {},
   "outputs": [],
   "source": [
    "df_listings[date_features].dtypes"
   ]
  },
  {
   "cell_type": "code",
   "execution_count": null,
   "id": "1902aa94",
   "metadata": {},
   "outputs": [],
   "source": [
    "pd.to_datetime(\"2008-09-07\")"
   ]
  },
  {
   "cell_type": "code",
   "execution_count": null,
   "id": "ead44211",
   "metadata": {},
   "outputs": [],
   "source": []
  },
  {
   "cell_type": "code",
   "execution_count": null,
   "id": "eeeb42d7",
   "metadata": {},
   "outputs": [],
   "source": [
    "df_listings['days_since_host'] = (todays_date - pd.to_datetime(df_listings.host_since)).dt.days\n",
    "df_listings['days_since_first_review'] = (todays_date - pd.to_datetime(df_listings.first_review)).dt.days\n",
    "df_listings['days_since_last_review'] = (todays_date - pd.to_datetime(df_listings.last_review)).dt.days"
   ]
  },
  {
   "cell_type": "code",
   "execution_count": null,
   "id": "84b3bc8c",
   "metadata": {},
   "outputs": [],
   "source": [
    "numeric_features = [\"host_response_rate\", \"host_acceptance_rate\", \"host_is_superhost\", \n",
    "                   \"host_listings_count\", \"instant_bookable\", \n",
    "                   \"latitude\", \"longitude\", \"accommodates\", \"bedrooms\", \"beds\", \n",
    "                    \"nbr_bathrooms\", \"shared_bathrooms\", \"host_lives_nbh\", \n",
    "                   \"nbr_host_verifications\", \"days_since_host\", \n",
    "                   \"days_since_first_review\", \"days_since_last_review\"]\n",
    "\n",
    "categorical_features = [\"host_response_time\", \"neighbourhood_group_cleansed\", \n",
    "                        \"neighbourhood_cleansed\", \"property_type\", \"room_type\"]"
   ]
  },
  {
   "cell_type": "code",
   "execution_count": null,
   "id": "2a44d088",
   "metadata": {},
   "outputs": [],
   "source": []
  },
  {
   "cell_type": "code",
   "execution_count": null,
   "id": "0ea61952",
   "metadata": {},
   "outputs": [],
   "source": []
  },
  {
   "cell_type": "code",
   "execution_count": null,
   "id": "80fdaaf3",
   "metadata": {},
   "outputs": [],
   "source": []
  },
  {
   "cell_type": "code",
   "execution_count": null,
   "id": "60d3f59f",
   "metadata": {},
   "outputs": [],
   "source": []
  },
  {
   "cell_type": "code",
   "execution_count": null,
   "id": "99b4d1d9",
   "metadata": {},
   "outputs": [],
   "source": []
  },
  {
   "cell_type": "code",
   "execution_count": null,
   "id": "e2d30cd9",
   "metadata": {},
   "outputs": [],
   "source": []
  },
  {
   "cell_type": "code",
   "execution_count": null,
   "id": "34b9bcab",
   "metadata": {},
   "outputs": [],
   "source": []
  },
  {
   "cell_type": "code",
   "execution_count": null,
   "id": "ac0a03c5",
   "metadata": {},
   "outputs": [],
   "source": []
  },
  {
   "cell_type": "code",
   "execution_count": null,
   "id": "1a42361a",
   "metadata": {},
   "outputs": [],
   "source": []
  },
  {
   "cell_type": "code",
   "execution_count": null,
   "id": "0a54213e",
   "metadata": {},
   "outputs": [],
   "source": []
  },
  {
   "cell_type": "code",
   "execution_count": null,
   "id": "7af538d3",
   "metadata": {},
   "outputs": [],
   "source": []
  },
  {
   "cell_type": "code",
   "execution_count": null,
   "id": "ee27380c",
   "metadata": {},
   "outputs": [],
   "source": []
  },
  {
   "cell_type": "code",
   "execution_count": null,
   "id": "e71be549",
   "metadata": {},
   "outputs": [],
   "source": []
  },
  {
   "cell_type": "code",
   "execution_count": null,
   "id": "e2aa469c",
   "metadata": {},
   "outputs": [],
   "source": []
  },
  {
   "cell_type": "code",
   "execution_count": null,
   "id": "149cb350",
   "metadata": {},
   "outputs": [],
   "source": []
  },
  {
   "cell_type": "code",
   "execution_count": null,
   "id": "88c5d64a",
   "metadata": {},
   "outputs": [],
   "source": []
  },
  {
   "cell_type": "code",
   "execution_count": null,
   "id": "434b9664",
   "metadata": {},
   "outputs": [],
   "source": []
  },
  {
   "cell_type": "code",
   "execution_count": null,
   "id": "ac916259",
   "metadata": {},
   "outputs": [],
   "source": []
  },
  {
   "cell_type": "code",
   "execution_count": null,
   "id": "c3f1f162",
   "metadata": {},
   "outputs": [],
   "source": []
  },
  {
   "cell_type": "code",
   "execution_count": null,
   "id": "16ac364c",
   "metadata": {},
   "outputs": [],
   "source": []
  },
  {
   "cell_type": "code",
   "execution_count": null,
   "id": "aac9fdf4",
   "metadata": {},
   "outputs": [],
   "source": []
  },
  {
   "cell_type": "code",
   "execution_count": null,
   "id": "8494114b",
   "metadata": {},
   "outputs": [],
   "source": []
  },
  {
   "cell_type": "code",
   "execution_count": null,
   "id": "51ffe6c6",
   "metadata": {},
   "outputs": [],
   "source": []
  },
  {
   "cell_type": "code",
   "execution_count": null,
   "id": "5fe4f27c",
   "metadata": {},
   "outputs": [],
   "source": []
  },
  {
   "cell_type": "code",
   "execution_count": null,
   "id": "931aff2f",
   "metadata": {},
   "outputs": [],
   "source": []
  },
  {
   "cell_type": "code",
   "execution_count": null,
   "id": "e9746f78",
   "metadata": {},
   "outputs": [],
   "source": []
  },
  {
   "cell_type": "code",
   "execution_count": null,
   "id": "98fd69c8",
   "metadata": {},
   "outputs": [],
   "source": []
  },
  {
   "cell_type": "code",
   "execution_count": null,
   "id": "0eee48b8",
   "metadata": {},
   "outputs": [],
   "source": []
  },
  {
   "cell_type": "code",
   "execution_count": null,
   "id": "43d82a56",
   "metadata": {},
   "outputs": [],
   "source": []
  },
  {
   "cell_type": "code",
   "execution_count": null,
   "id": "39a60503",
   "metadata": {},
   "outputs": [],
   "source": []
  },
  {
   "cell_type": "code",
   "execution_count": null,
   "id": "0a94d81c",
   "metadata": {},
   "outputs": [],
   "source": []
  },
  {
   "cell_type": "code",
   "execution_count": null,
   "id": "c7f04616",
   "metadata": {},
   "outputs": [],
   "source": []
  },
  {
   "cell_type": "code",
   "execution_count": null,
   "id": "d557b674",
   "metadata": {},
   "outputs": [],
   "source": []
  },
  {
   "cell_type": "code",
   "execution_count": null,
   "id": "3a8cbc81",
   "metadata": {},
   "outputs": [],
   "source": []
  },
  {
   "cell_type": "code",
   "execution_count": null,
   "id": "8298396d",
   "metadata": {},
   "outputs": [],
   "source": []
  },
  {
   "cell_type": "code",
   "execution_count": null,
   "id": "e2ee7e96",
   "metadata": {},
   "outputs": [],
   "source": []
  },
  {
   "cell_type": "code",
   "execution_count": null,
   "id": "f46ced9e",
   "metadata": {},
   "outputs": [],
   "source": []
  },
  {
   "cell_type": "code",
   "execution_count": null,
   "id": "fd3c2e87",
   "metadata": {},
   "outputs": [],
   "source": []
  },
  {
   "cell_type": "code",
   "execution_count": null,
   "id": "62c9d426",
   "metadata": {},
   "outputs": [],
   "source": []
  },
  {
   "cell_type": "code",
   "execution_count": null,
   "id": "6337bab0",
   "metadata": {},
   "outputs": [],
   "source": []
  },
  {
   "cell_type": "code",
   "execution_count": null,
   "id": "dc855912",
   "metadata": {},
   "outputs": [],
   "source": []
  },
  {
   "cell_type": "code",
   "execution_count": null,
   "id": "5a6c33bc",
   "metadata": {},
   "outputs": [],
   "source": []
  },
  {
   "cell_type": "code",
   "execution_count": null,
   "id": "87a367d6",
   "metadata": {},
   "outputs": [],
   "source": []
  },
  {
   "cell_type": "code",
   "execution_count": null,
   "id": "9f889ead",
   "metadata": {},
   "outputs": [],
   "source": []
  },
  {
   "cell_type": "code",
   "execution_count": null,
   "id": "600a97bc",
   "metadata": {},
   "outputs": [],
   "source": []
  },
  {
   "cell_type": "code",
   "execution_count": null,
   "id": "1e052c10",
   "metadata": {},
   "outputs": [],
   "source": []
  },
  {
   "cell_type": "code",
   "execution_count": null,
   "id": "9839aab3",
   "metadata": {},
   "outputs": [],
   "source": []
  },
  {
   "cell_type": "code",
   "execution_count": null,
   "id": "10527e00",
   "metadata": {},
   "outputs": [],
   "source": []
  },
  {
   "cell_type": "code",
   "execution_count": null,
   "id": "b6f0053e",
   "metadata": {},
   "outputs": [],
   "source": []
  },
  {
   "cell_type": "code",
   "execution_count": null,
   "id": "c57f1213",
   "metadata": {},
   "outputs": [],
   "source": []
  },
  {
   "cell_type": "code",
   "execution_count": null,
   "id": "b8817737",
   "metadata": {},
   "outputs": [],
   "source": []
  },
  {
   "cell_type": "code",
   "execution_count": null,
   "id": "f663c105",
   "metadata": {},
   "outputs": [],
   "source": []
  },
  {
   "cell_type": "code",
   "execution_count": null,
   "id": "58fa14e1",
   "metadata": {},
   "outputs": [],
   "source": []
  },
  {
   "cell_type": "code",
   "execution_count": null,
   "id": "196fea6d",
   "metadata": {},
   "outputs": [],
   "source": []
  },
  {
   "cell_type": "code",
   "execution_count": null,
   "id": "642e8bce",
   "metadata": {},
   "outputs": [],
   "source": []
  },
  {
   "cell_type": "code",
   "execution_count": null,
   "id": "d04313ce",
   "metadata": {},
   "outputs": [],
   "source": []
  },
  {
   "cell_type": "code",
   "execution_count": null,
   "id": "8c73eeda",
   "metadata": {},
   "outputs": [],
   "source": []
  },
  {
   "cell_type": "code",
   "execution_count": null,
   "id": "e940bdeb",
   "metadata": {},
   "outputs": [],
   "source": []
  },
  {
   "cell_type": "code",
   "execution_count": null,
   "id": "9b709fea",
   "metadata": {},
   "outputs": [],
   "source": []
  },
  {
   "cell_type": "code",
   "execution_count": null,
   "id": "350f19ef",
   "metadata": {},
   "outputs": [],
   "source": []
  },
  {
   "cell_type": "code",
   "execution_count": null,
   "id": "5a28e1d3",
   "metadata": {},
   "outputs": [],
   "source": []
  },
  {
   "cell_type": "code",
   "execution_count": null,
   "id": "246c4751",
   "metadata": {},
   "outputs": [],
   "source": []
  }
 ],
 "metadata": {
  "hide_input": false,
  "kernelspec": {
   "display_name": "Python [conda env:xgb]",
   "language": "python",
   "name": "conda-env-xgb-py"
  },
  "language_info": {
   "codemirror_mode": {
    "name": "ipython",
    "version": 3
   },
   "file_extension": ".py",
   "mimetype": "text/x-python",
   "name": "python",
   "nbconvert_exporter": "python",
   "pygments_lexer": "ipython3",
   "version": "3.9.15"
  }
 },
 "nbformat": 4,
 "nbformat_minor": 5
}
